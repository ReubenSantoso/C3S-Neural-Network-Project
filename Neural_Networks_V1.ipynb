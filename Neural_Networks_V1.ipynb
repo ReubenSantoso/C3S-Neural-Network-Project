{
  "nbformat": 4,
  "nbformat_minor": 0,
  "metadata": {
    "colab": {
      "provenance": [],
      "gpuType": "T4",
      "toc_visible": true,
      "collapsed_sections": [
        "vdlEj41EkxjA"
      ]
    },
    "kernelspec": {
      "name": "python3",
      "display_name": "Python 3"
    },
    "language_info": {
      "name": "python"
    },
    "accelerator": "GPU"
  },
  "cells": [
    {
      "cell_type": "code",
      "execution_count": null,
      "metadata": {
        "id": "MXmWQHl2Vx4G"
      },
      "outputs": [],
      "source": [
        "import torch\n",
        "import torch.nn as nn\n",
        "import torch.optim as optim\n",
        "from torch.utils.data import DataLoader, TensorDataset, random_split\n",
        "import numpy as np\n",
        "from sklearn.preprocessing import StandardScaler"
      ]
    },
    {
      "cell_type": "code",
      "source": [
        "# Use GPU if available, else fallback to CPU\n",
        "device = torch.device(\"cuda\" if torch.cuda.is_available() else \"cpu\")\n",
        "print(\"Using device:\", device)"
      ],
      "metadata": {
        "colab": {
          "base_uri": "https://localhost:8080/"
        },
        "id": "7jVG7tl_eAPL",
        "outputId": "fdca69f4-92bb-4de0-dec8-563cb63aab15"
      },
      "execution_count": null,
      "outputs": [
        {
          "output_type": "stream",
          "name": "stdout",
          "text": [
            "Using device: cuda\n"
          ]
        }
      ]
    },
    {
      "cell_type": "code",
      "source": [
        "# Load Data\n",
        "from google.colab import drive\n",
        "import sqlite3\n",
        "import pandas as pd\n",
        "\n",
        "drive.mount('/content/drive')\n",
        "conn = sqlite3.connect('/content/drive/My Drive/Colab Notebooks/C3S.db')  # Replace with your database path\n",
        "cursor = conn.cursor()\n",
        "master_df = pd.read_sql_query(\"SELECT * FROM master\", conn)\n",
        "mqn_df = pd.read_sql_query(\"SELECT * FROM mqns\", conn)\n",
        "\n",
        "c3s_df = pd.merge(master_df, mqn_df, on='g_id', how='left')\n",
        "conn.close()"
      ],
      "metadata": {
        "colab": {
          "base_uri": "https://localhost:8080/"
        },
        "id": "AIabRkAWhoMl",
        "outputId": "8d6e538a-031e-40bd-af86-15bc49e95316"
      },
      "execution_count": null,
      "outputs": [
        {
          "output_type": "stream",
          "name": "stdout",
          "text": [
            "Drive already mounted at /content/drive; to attempt to forcibly remount, call drive.mount(\"/content/drive\", force_remount=True).\n"
          ]
        }
      ]
    },
    {
      "cell_type": "code",
      "source": [
        "features = [\n",
        "    \"mz\", \"adduct\",\n",
        "    \"c\", \"f\", \"cl\", \"br\", \"i\", \"s\", \"p\", \"an\", \"cn\", \"ao\", \"co\",\n",
        "    \"hac\", \"hbam\", \"hba\", \"hbdm\", \"hbd\", \"neg\", \"pos\", \"asb\", \"adb\",\n",
        "    \"atb\", \"csb\", \"cdb\", \"ctb\", \"rbc\", \"asv\", \"adv\", \"atv\", \"aqv\",\n",
        "    \"cdv\", \"ctv\", \"cqv\", \"r3\", \"r4\", \"r5\", \"r6\", \"r7\", \"r8\", \"r9\",\n",
        "    \"rg10\", \"afr\", \"bfr\"\n",
        "    ]\n",
        "\n",
        "target = \"ccs\"\n",
        "\n",
        "c3s_df_encoded = c3s_df[features + [target]]\n",
        "\n",
        "# Adducts to One Hot Encode\n",
        "adduct_groups = {\n",
        "    \"[M+H]+\", \"[M+Na]+\", \"[M-H]-\", \"[M+NH4]+\", \"[M+K]+\",\n",
        "    \"[M+H-H2O]+\", \"[M+HCOO]-\", \"[M+CH3COO]-\", \"[M+Na-2H]-\"\n",
        "}\n",
        "\n",
        "# One-hot encode the grouped adducts\n",
        "c3s_df_encoded[\"adduct_grouped\"] = c3s_df_encoded[\"adduct\"].apply(lambda x: x if x in adduct_groups else \"Other\")\n",
        "c3s_df_encoded = pd.get_dummies(c3s_df_encoded, columns=[\"adduct_grouped\"])\n",
        "\n",
        "# Rename 'adduct_grouped_Other' to 'adduct_Other' for clarity\n",
        "c3s_df_encoded.rename(columns={\"adduct_grouped_Other\": \"adduct_Other\"}, inplace=True)\n",
        "c3s_df_encoded.drop(columns=[\"adduct\"], inplace=True)\n",
        "\n",
        "print(f\"Number of entries in C3S Total: {c3s_df_encoded.shape}\")\n",
        "\n",
        "c3s_df_encoded = c3s_df_encoded.dropna()\n",
        "\n",
        "print(f\"Number of entries in C3S excluding nan rows: {c3s_df_encoded.shape}\")\n",
        "# print(c3s_df_encoded.head())"
      ],
      "metadata": {
        "colab": {
          "base_uri": "https://localhost:8080/"
        },
        "id": "PjnFb6_YIuai",
        "outputId": "422b30f4-22b1-4acb-e5b6-4e4a4242dfac"
      },
      "execution_count": null,
      "outputs": [
        {
          "output_type": "stream",
          "name": "stdout",
          "text": [
            "Number of entries in C3S Total: (17679, 54)\n",
            "Number of entries in C3S excluding nan rows: (15187, 54)\n"
          ]
        },
        {
          "output_type": "stream",
          "name": "stderr",
          "text": [
            "<ipython-input-4-4ef973059af8>:21: SettingWithCopyWarning: \n",
            "A value is trying to be set on a copy of a slice from a DataFrame.\n",
            "Try using .loc[row_indexer,col_indexer] = value instead\n",
            "\n",
            "See the caveats in the documentation: https://pandas.pydata.org/pandas-docs/stable/user_guide/indexing.html#returning-a-view-versus-a-copy\n",
            "  c3s_df_encoded[\"adduct_grouped\"] = c3s_df_encoded[\"adduct\"].apply(lambda x: x if x in adduct_groups else \"Other\")\n"
          ]
        }
      ]
    },
    {
      "cell_type": "code",
      "source": [
        "# Ensure all object columns are converted (shouldn't be needed after get_dummies)\n",
        "object_columns = c3s_df_encoded.select_dtypes(include=['object']).columns\n",
        "if len(object_columns) > 0:\n",
        "    print(\"Warning: Object columns detected!\", object_columns)\n",
        "\n",
        "# Ensure all columns are numeric\n",
        "c3s_df_encoded = c3s_df_encoded.astype(np.float32)\n",
        "\n",
        "# #CONVERTING DATAFRAME TO TENSOR\n",
        "X_numpy = c3s_df_encoded.drop(columns=[target]).to_numpy(dtype=np.float32)\n",
        "y_numpy = c3s_df_encoded[target].to_numpy(dtype=np.float32).reshape(-1, 1) #(N , 1)\n",
        "\n",
        "# #NORMALIZE DATA FIRST\n",
        "# scaler = StandardScaler()\n",
        "# X_numpy = scaler.fit_transform(X_numpy)\n",
        "# # y_numpy = scaler.fit_transform(y_numpy)\n",
        "\n",
        "# Convert to PyTorch tensors\n",
        "X_tensor = torch.tensor(X_numpy, dtype=torch.float32)\n",
        "y_tensor = torch.tensor(y_numpy, dtype=torch.float32)\n",
        "\n",
        "# Debug prints\n",
        "print(f\"X shape: {X_tensor.shape}\")\n",
        "print(f\"y shape: {y_tensor.shape}\")\n",
        "print(\"First 2 x values tensor:\", X_tensor[:2])\n",
        "print('\\n')\n",
        "print(\"First 2 y values tensor:\", y_tensor[:2])"
      ],
      "metadata": {
        "colab": {
          "base_uri": "https://localhost:8080/"
        },
        "id": "goz8jJK8LX1L",
        "outputId": "bb73b9e4-d379-4079-d47a-b3861e5db735"
      },
      "execution_count": null,
      "outputs": [
        {
          "output_type": "stream",
          "name": "stdout",
          "text": [
            "X shape: torch.Size([15187, 53])\n",
            "y shape: torch.Size([15187, 1])\n",
            "First 2 x values tensor: tensor([[137.0715,   7.0000,   0.0000,   0.0000,   0.0000,   0.0000,   0.0000,\n",
            "           0.0000,   1.0000,   1.0000,   1.0000,   0.0000,  10.0000,   3.0000,\n",
            "           1.0000,   0.0000,   3.0000,   3.0000,   0.0000,   1.0000,   4.0000,\n",
            "           3.0000,   2.0000,   1.0000,   0.0000,   1.0000,   3.0000,   0.0000,\n",
            "           1.0000,   0.0000,   4.0000,   2.0000,   0.0000,   0.0000,   0.0000,\n",
            "           0.0000,   1.0000,   0.0000,   0.0000,   0.0000,   0.0000,   0.0000,\n",
            "           0.0000,   1.0000,   0.0000,   0.0000,   0.0000,   0.0000,   0.0000,\n",
            "           0.0000,   0.0000,   0.0000,   0.0000],\n",
            "        [298.1151,  11.0000,   0.0000,   0.0000,   0.0000,   0.0000,   0.0000,\n",
            "           0.0000,   1.0000,   4.0000,   4.0000,   1.0000,  21.0000,   7.0000,\n",
            "           1.0000,   0.0000,  10.0000,   5.0000,   0.0000,   2.0000,  15.0000,\n",
            "          10.0000,   6.0000,   5.0000,   0.0000,   1.0000,   6.0000,   1.0000,\n",
            "           0.0000,   0.0000,   4.0000,  10.0000,   0.0000,   0.0000,   0.0000,\n",
            "           2.0000,   1.0000,   0.0000,   0.0000,   0.0000,   0.0000,   2.0000,\n",
            "           1.0000,   1.0000,   0.0000,   0.0000,   0.0000,   0.0000,   0.0000,\n",
            "           0.0000,   0.0000,   0.0000,   0.0000]])\n",
            "\n",
            "\n",
            "First 2 y values tensor: tensor([[126.4000],\n",
            "        [166.5000]])\n"
          ]
        }
      ]
    },
    {
      "cell_type": "code",
      "source": [
        "#TRUE IF WANT TO USE SUBSET OF DATA\n",
        "#FALSE for full training data\n",
        "\n",
        "SAMPLE_DATA = True"
      ],
      "metadata": {
        "id": "9bkqc9W33RBl"
      },
      "execution_count": null,
      "outputs": []
    },
    {
      "cell_type": "code",
      "source": [
        "#Compiling DATASET into DATALOADERS\n",
        "\n",
        "dataset = TensorDataset(X_tensor, y_tensor) # Combines Features and Target variable together\n",
        "\n",
        "total = len(dataset)\n",
        "train_size = int(0.8 * total)\n",
        "test_size = int(0.1 * total)\n",
        "validation_size = total - train_size - test_size  # Ensures all samples are used\n",
        "\n",
        "BATCH_SIZE = 64\n",
        "\n",
        "# Split dataset into train, validation, and test sets\n",
        "train_dataset, test_dataset, validation_dataset = random_split(dataset, [train_size, test_size, validation_size])\n",
        "\n",
        "if SAMPLE_DATA:\n",
        "    sample_train_size = min(BATCH_SIZE * 10, len(train_dataset))\n",
        "    sample_val_size = min(BATCH_SIZE * 10, len(validation_dataset))\n",
        "    sample_test_size = min(BATCH_SIZE * 10, len(test_dataset))\n",
        "\n",
        "    #grabs subsets from the full dataset\n",
        "    trainset, _ = random_split(train_dataset, [sample_train_size, len(train_dataset) - sample_train_size])\n",
        "    valset, _ = random_split(validation_dataset, [sample_val_size, len(validation_dataset) - sample_val_size])\n",
        "    testset, _ = random_split(test_dataset, [sample_test_size, len(test_dataset) - sample_test_size])\n",
        "else:\n",
        "    trainset, valset, testset = train_dataset, validation_dataset, test_dataset\n",
        "\n",
        "# Create DataLoaders -> for batch sampling\n",
        "train_loader = DataLoader(trainset, batch_size=BATCH_SIZE, shuffle=True, num_workers=2)\n",
        "validation_loader = DataLoader(valset, batch_size=BATCH_SIZE, shuffle=False, num_workers=2)\n",
        "test_loader = DataLoader(testset, batch_size=BATCH_SIZE, shuffle=False, num_workers=2)\n",
        "\n",
        "# Get number of features (D)\n",
        "D = X_tensor.shape[1]\n",
        "print(f\"Number of features: {D}\")\n",
        "print(f\"Number of total Entries: {total}\")\n",
        "print(f\"Number of train Entries: {len(trainset)}\")\n",
        "print(f\"Number of validation Entries: {len(valset)}\")\n",
        "print(f\"Number of test Entries: {len(testset)}\")\n"
      ],
      "metadata": {
        "colab": {
          "base_uri": "https://localhost:8080/"
        },
        "id": "dzU4WLdegf73",
        "outputId": "624519a3-5f22-49d9-8a05-1b4cb65d29b2"
      },
      "execution_count": null,
      "outputs": [
        {
          "output_type": "stream",
          "name": "stdout",
          "text": [
            "Number of features: 53\n",
            "Number of total Entries: 15187\n",
            "Number of train Entries: 640\n",
            "Number of validation Entries: 640\n",
            "Number of test Entries: 640\n"
          ]
        }
      ]
    },
    {
      "cell_type": "code",
      "source": [
        "for batch_idx, (data, target) in enumerate(train_loader):\n",
        "        print(f\"Batch {batch_idx}: Data shape = {data.shape}, Target shape = {target.shape}\")\n",
        "        break  # Print only the first batch's shape"
      ],
      "metadata": {
        "colab": {
          "base_uri": "https://localhost:8080/"
        },
        "id": "8Rn_y7ASxlso",
        "outputId": "a536720b-4469-4b1b-9bb7-0b1b0b3e030a"
      },
      "execution_count": null,
      "outputs": [
        {
          "output_type": "stream",
          "name": "stdout",
          "text": [
            "Batch 0: Data shape = torch.Size([64, 53]), Target shape = torch.Size([64, 1])\n"
          ]
        }
      ]
    },
    {
      "cell_type": "markdown",
      "source": [
        "#PLS-RA"
      ],
      "metadata": {
        "id": "vdlEj41EkxjA"
      }
    },
    {
      "cell_type": "code",
      "source": [
        "from sklearn.cross_decomposition import PLSRegression\n",
        "from sklearn.preprocessing import StandardScaler\n",
        "\n",
        "# Standardize the data (important for PLS)\n",
        "scaler_X = StandardScaler()\n",
        "\n",
        "#Normalized Here\n",
        "X_scaled = scaler_X.fit_transform(X_numpy)\n",
        "\n",
        "print(X_scaled.shape[1]) #number of features\n",
        "\n",
        "print(f\"X_scaled shape: {X_scaled[:1]}\")\n",
        "print(f\"y normal shape: {y_numpy[:1]}\")"
      ],
      "metadata": {
        "colab": {
          "base_uri": "https://localhost:8080/"
        },
        "id": "snbNuJt2kzB0",
        "outputId": "63b1be4f-3bd3-4451-dc43-a9ff85dec27f"
      },
      "execution_count": null,
      "outputs": [
        {
          "output_type": "stream",
          "name": "stdout",
          "text": [
            "53\n",
            "X_scaled shape: [[-1.3506614  -1.0639896  -0.11190958 -0.2185339  -0.08218891 -0.05278343\n",
            "  -0.29173702 -0.55854267  0.22672957  0.40823168 -1.1443443  -0.3873107\n",
            "  -1.2024757  -1.0147344  -0.53936183 -0.08141389 -0.44646943  0.25406143\n",
            "   0.         -0.89935476 -0.99592525 -0.8365337  -0.21769497 -0.48216662\n",
            "  -0.33964655  2.678653   -0.94867307 -0.8069513  -0.4966569  -0.49473977\n",
            "   0.02937161 -0.41184264 -0.33279762 -0.14496993 -0.08535525 -0.5206205\n",
            "  -0.15550756 -0.1195198  -0.03539261 -0.03631325 -0.04596629 -0.4603966\n",
            "  -0.31848454  4.191183   -0.1293714  -0.2078617  -0.12151874 -0.74985856\n",
            "  -0.22080204 -0.28121522 -0.10187517 -0.52280915 -0.4511127 ]]\n",
            "y normal shape: [[126.4]]\n"
          ]
        }
      ]
    },
    {
      "cell_type": "code",
      "source": [
        "num_components = min(X_scaled.shape[1], 10)  #input features , latent dimensions\n",
        "\n",
        "# Fit PLS Regression\n",
        "pls = PLSRegression(n_components=num_components)\n",
        "pls.fit(X_scaled, y_numpy)\n",
        "\n",
        "# Get transformed features\n",
        "X_pls = pls.transform(X_scaled)"
      ],
      "metadata": {
        "colab": {
          "base_uri": "https://localhost:8080/",
          "height": 460
        },
        "id": "N0zRPqI0le4z",
        "outputId": "d0e4661f-661c-43bd-88cd-28434c2c7881"
      },
      "execution_count": null,
      "outputs": [
        {
          "output_type": "error",
          "ename": "ValueError",
          "evalue": "Input X contains NaN.\nPLSRegression does not accept missing values encoded as NaN natively. For supervised learning, you might want to consider sklearn.ensemble.HistGradientBoostingClassifier and Regressor which accept missing values encoded as NaNs natively. Alternatively, it is possible to preprocess the data, for instance by using an imputer transformer in a pipeline or drop samples with missing values. See https://scikit-learn.org/stable/modules/impute.html You can find a list of all estimators that handle NaN values at the following page: https://scikit-learn.org/stable/modules/impute.html#estimators-that-handle-nan-values",
          "traceback": [
            "\u001b[0;31m---------------------------------------------------------------------------\u001b[0m",
            "\u001b[0;31mValueError\u001b[0m                                Traceback (most recent call last)",
            "\u001b[0;32m<ipython-input-47-b130a20134ef>\u001b[0m in \u001b[0;36m<cell line: 0>\u001b[0;34m()\u001b[0m\n\u001b[1;32m      3\u001b[0m \u001b[0;31m# Fit PLS Regression\u001b[0m\u001b[0;34m\u001b[0m\u001b[0;34m\u001b[0m\u001b[0m\n\u001b[1;32m      4\u001b[0m \u001b[0mpls\u001b[0m \u001b[0;34m=\u001b[0m \u001b[0mPLSRegression\u001b[0m\u001b[0;34m(\u001b[0m\u001b[0mn_components\u001b[0m\u001b[0;34m=\u001b[0m\u001b[0mnum_components\u001b[0m\u001b[0;34m)\u001b[0m\u001b[0;34m\u001b[0m\u001b[0;34m\u001b[0m\u001b[0m\n\u001b[0;32m----> 5\u001b[0;31m \u001b[0mpls\u001b[0m\u001b[0;34m.\u001b[0m\u001b[0mfit\u001b[0m\u001b[0;34m(\u001b[0m\u001b[0mX_scaled\u001b[0m\u001b[0;34m,\u001b[0m \u001b[0my_numpy\u001b[0m\u001b[0;34m)\u001b[0m\u001b[0;34m\u001b[0m\u001b[0;34m\u001b[0m\u001b[0m\n\u001b[0m\u001b[1;32m      6\u001b[0m \u001b[0;34m\u001b[0m\u001b[0m\n\u001b[1;32m      7\u001b[0m \u001b[0;31m# Get transformed features\u001b[0m\u001b[0;34m\u001b[0m\u001b[0;34m\u001b[0m\u001b[0m\n",
            "\u001b[0;32m/usr/local/lib/python3.11/dist-packages/sklearn/cross_decomposition/_pls.py\u001b[0m in \u001b[0;36mfit\u001b[0;34m(self, X, y, Y)\u001b[0m\n\u001b[1;32m    717\u001b[0m         \u001b[0my\u001b[0m \u001b[0;34m=\u001b[0m \u001b[0m_deprecate_Y_when_required\u001b[0m\u001b[0;34m(\u001b[0m\u001b[0my\u001b[0m\u001b[0;34m,\u001b[0m \u001b[0mY\u001b[0m\u001b[0;34m)\u001b[0m\u001b[0;34m\u001b[0m\u001b[0;34m\u001b[0m\u001b[0m\n\u001b[1;32m    718\u001b[0m \u001b[0;34m\u001b[0m\u001b[0m\n\u001b[0;32m--> 719\u001b[0;31m         \u001b[0msuper\u001b[0m\u001b[0;34m(\u001b[0m\u001b[0;34m)\u001b[0m\u001b[0;34m.\u001b[0m\u001b[0mfit\u001b[0m\u001b[0;34m(\u001b[0m\u001b[0mX\u001b[0m\u001b[0;34m,\u001b[0m \u001b[0my\u001b[0m\u001b[0;34m)\u001b[0m\u001b[0;34m\u001b[0m\u001b[0;34m\u001b[0m\u001b[0m\n\u001b[0m\u001b[1;32m    720\u001b[0m         \u001b[0;31m# expose the fitted attributes `x_scores_` and `y_scores_`\u001b[0m\u001b[0;34m\u001b[0m\u001b[0;34m\u001b[0m\u001b[0m\n\u001b[1;32m    721\u001b[0m         \u001b[0mself\u001b[0m\u001b[0;34m.\u001b[0m\u001b[0mx_scores_\u001b[0m \u001b[0;34m=\u001b[0m \u001b[0mself\u001b[0m\u001b[0;34m.\u001b[0m\u001b[0m_x_scores\u001b[0m\u001b[0;34m\u001b[0m\u001b[0;34m\u001b[0m\u001b[0m\n",
            "\u001b[0;32m/usr/local/lib/python3.11/dist-packages/sklearn/base.py\u001b[0m in \u001b[0;36mwrapper\u001b[0;34m(estimator, *args, **kwargs)\u001b[0m\n\u001b[1;32m   1387\u001b[0m                 )\n\u001b[1;32m   1388\u001b[0m             ):\n\u001b[0;32m-> 1389\u001b[0;31m                 \u001b[0;32mreturn\u001b[0m \u001b[0mfit_method\u001b[0m\u001b[0;34m(\u001b[0m\u001b[0mestimator\u001b[0m\u001b[0;34m,\u001b[0m \u001b[0;34m*\u001b[0m\u001b[0margs\u001b[0m\u001b[0;34m,\u001b[0m \u001b[0;34m**\u001b[0m\u001b[0mkwargs\u001b[0m\u001b[0;34m)\u001b[0m\u001b[0;34m\u001b[0m\u001b[0;34m\u001b[0m\u001b[0m\n\u001b[0m\u001b[1;32m   1390\u001b[0m \u001b[0;34m\u001b[0m\u001b[0m\n\u001b[1;32m   1391\u001b[0m         \u001b[0;32mreturn\u001b[0m \u001b[0mwrapper\u001b[0m\u001b[0;34m\u001b[0m\u001b[0;34m\u001b[0m\u001b[0m\n",
            "\u001b[0;32m/usr/local/lib/python3.11/dist-packages/sklearn/cross_decomposition/_pls.py\u001b[0m in \u001b[0;36mfit\u001b[0;34m(self, X, y, Y)\u001b[0m\n\u001b[1;32m    263\u001b[0m \u001b[0;34m\u001b[0m\u001b[0m\n\u001b[1;32m    264\u001b[0m         \u001b[0mcheck_consistent_length\u001b[0m\u001b[0;34m(\u001b[0m\u001b[0mX\u001b[0m\u001b[0;34m,\u001b[0m \u001b[0my\u001b[0m\u001b[0;34m)\u001b[0m\u001b[0;34m\u001b[0m\u001b[0;34m\u001b[0m\u001b[0m\n\u001b[0;32m--> 265\u001b[0;31m         X = validate_data(\n\u001b[0m\u001b[1;32m    266\u001b[0m             \u001b[0mself\u001b[0m\u001b[0;34m,\u001b[0m\u001b[0;34m\u001b[0m\u001b[0;34m\u001b[0m\u001b[0m\n\u001b[1;32m    267\u001b[0m             \u001b[0mX\u001b[0m\u001b[0;34m,\u001b[0m\u001b[0;34m\u001b[0m\u001b[0;34m\u001b[0m\u001b[0m\n",
            "\u001b[0;32m/usr/local/lib/python3.11/dist-packages/sklearn/utils/validation.py\u001b[0m in \u001b[0;36mvalidate_data\u001b[0;34m(_estimator, X, y, reset, validate_separately, skip_check_array, **check_params)\u001b[0m\n\u001b[1;32m   2942\u001b[0m             \u001b[0mout\u001b[0m \u001b[0;34m=\u001b[0m \u001b[0mX\u001b[0m\u001b[0;34m,\u001b[0m \u001b[0my\u001b[0m\u001b[0;34m\u001b[0m\u001b[0;34m\u001b[0m\u001b[0m\n\u001b[1;32m   2943\u001b[0m     \u001b[0;32melif\u001b[0m \u001b[0;32mnot\u001b[0m \u001b[0mno_val_X\u001b[0m \u001b[0;32mand\u001b[0m \u001b[0mno_val_y\u001b[0m\u001b[0;34m:\u001b[0m\u001b[0;34m\u001b[0m\u001b[0;34m\u001b[0m\u001b[0m\n\u001b[0;32m-> 2944\u001b[0;31m         \u001b[0mout\u001b[0m \u001b[0;34m=\u001b[0m \u001b[0mcheck_array\u001b[0m\u001b[0;34m(\u001b[0m\u001b[0mX\u001b[0m\u001b[0;34m,\u001b[0m \u001b[0minput_name\u001b[0m\u001b[0;34m=\u001b[0m\u001b[0;34m\"X\"\u001b[0m\u001b[0;34m,\u001b[0m \u001b[0;34m**\u001b[0m\u001b[0mcheck_params\u001b[0m\u001b[0;34m)\u001b[0m\u001b[0;34m\u001b[0m\u001b[0;34m\u001b[0m\u001b[0m\n\u001b[0m\u001b[1;32m   2945\u001b[0m     \u001b[0;32melif\u001b[0m \u001b[0mno_val_X\u001b[0m \u001b[0;32mand\u001b[0m \u001b[0;32mnot\u001b[0m \u001b[0mno_val_y\u001b[0m\u001b[0;34m:\u001b[0m\u001b[0;34m\u001b[0m\u001b[0;34m\u001b[0m\u001b[0m\n\u001b[1;32m   2946\u001b[0m         \u001b[0mout\u001b[0m \u001b[0;34m=\u001b[0m \u001b[0m_check_y\u001b[0m\u001b[0;34m(\u001b[0m\u001b[0my\u001b[0m\u001b[0;34m,\u001b[0m \u001b[0;34m**\u001b[0m\u001b[0mcheck_params\u001b[0m\u001b[0;34m)\u001b[0m\u001b[0;34m\u001b[0m\u001b[0;34m\u001b[0m\u001b[0m\n",
            "\u001b[0;32m/usr/local/lib/python3.11/dist-packages/sklearn/utils/validation.py\u001b[0m in \u001b[0;36mcheck_array\u001b[0;34m(array, accept_sparse, accept_large_sparse, dtype, order, copy, force_writeable, force_all_finite, ensure_all_finite, ensure_non_negative, ensure_2d, allow_nd, ensure_min_samples, ensure_min_features, estimator, input_name)\u001b[0m\n\u001b[1;32m   1105\u001b[0m \u001b[0;34m\u001b[0m\u001b[0m\n\u001b[1;32m   1106\u001b[0m         \u001b[0;32mif\u001b[0m \u001b[0mensure_all_finite\u001b[0m\u001b[0;34m:\u001b[0m\u001b[0;34m\u001b[0m\u001b[0;34m\u001b[0m\u001b[0m\n\u001b[0;32m-> 1107\u001b[0;31m             _assert_all_finite(\n\u001b[0m\u001b[1;32m   1108\u001b[0m                 \u001b[0marray\u001b[0m\u001b[0;34m,\u001b[0m\u001b[0;34m\u001b[0m\u001b[0;34m\u001b[0m\u001b[0m\n\u001b[1;32m   1109\u001b[0m                 \u001b[0minput_name\u001b[0m\u001b[0;34m=\u001b[0m\u001b[0minput_name\u001b[0m\u001b[0;34m,\u001b[0m\u001b[0;34m\u001b[0m\u001b[0;34m\u001b[0m\u001b[0m\n",
            "\u001b[0;32m/usr/local/lib/python3.11/dist-packages/sklearn/utils/validation.py\u001b[0m in \u001b[0;36m_assert_all_finite\u001b[0;34m(X, allow_nan, msg_dtype, estimator_name, input_name)\u001b[0m\n\u001b[1;32m    118\u001b[0m         \u001b[0;32mreturn\u001b[0m\u001b[0;34m\u001b[0m\u001b[0;34m\u001b[0m\u001b[0m\n\u001b[1;32m    119\u001b[0m \u001b[0;34m\u001b[0m\u001b[0m\n\u001b[0;32m--> 120\u001b[0;31m     _assert_all_finite_element_wise(\n\u001b[0m\u001b[1;32m    121\u001b[0m         \u001b[0mX\u001b[0m\u001b[0;34m,\u001b[0m\u001b[0;34m\u001b[0m\u001b[0;34m\u001b[0m\u001b[0m\n\u001b[1;32m    122\u001b[0m         \u001b[0mxp\u001b[0m\u001b[0;34m=\u001b[0m\u001b[0mxp\u001b[0m\u001b[0;34m,\u001b[0m\u001b[0;34m\u001b[0m\u001b[0;34m\u001b[0m\u001b[0m\n",
            "\u001b[0;32m/usr/local/lib/python3.11/dist-packages/sklearn/utils/validation.py\u001b[0m in \u001b[0;36m_assert_all_finite_element_wise\u001b[0;34m(X, xp, allow_nan, msg_dtype, estimator_name, input_name)\u001b[0m\n\u001b[1;32m    167\u001b[0m                 \u001b[0;34m\"#estimators-that-handle-nan-values\"\u001b[0m\u001b[0;34m\u001b[0m\u001b[0;34m\u001b[0m\u001b[0m\n\u001b[1;32m    168\u001b[0m             )\n\u001b[0;32m--> 169\u001b[0;31m         \u001b[0;32mraise\u001b[0m \u001b[0mValueError\u001b[0m\u001b[0;34m(\u001b[0m\u001b[0mmsg_err\u001b[0m\u001b[0;34m)\u001b[0m\u001b[0;34m\u001b[0m\u001b[0;34m\u001b[0m\u001b[0m\n\u001b[0m\u001b[1;32m    170\u001b[0m \u001b[0;34m\u001b[0m\u001b[0m\n\u001b[1;32m    171\u001b[0m \u001b[0;34m\u001b[0m\u001b[0m\n",
            "\u001b[0;31mValueError\u001b[0m: Input X contains NaN.\nPLSRegression does not accept missing values encoded as NaN natively. For supervised learning, you might want to consider sklearn.ensemble.HistGradientBoostingClassifier and Regressor which accept missing values encoded as NaNs natively. Alternatively, it is possible to preprocess the data, for instance by using an imputer transformer in a pipeline or drop samples with missing values. See https://scikit-learn.org/stable/modules/impute.html You can find a list of all estimators that handle NaN values at the following page: https://scikit-learn.org/stable/modules/impute.html#estimators-that-handle-nan-values"
          ]
        }
      ]
    },
    {
      "cell_type": "code",
      "source": [
        "# Print explained variance\n",
        "print(\"Explained variance by PLS components:\", pls.explained_variance_ratio_ if hasattr(pls, \"explained_variance_ratio_\") else \"N/A\")\n",
        "\n",
        "# Convert back to PyTorch tensor if needed\n",
        "X_pls_tensor = torch.tensor(X_pls, dtype=torch.float32, device=device)"
      ],
      "metadata": {
        "id": "TlRg-jKpmQeD"
      },
      "execution_count": null,
      "outputs": []
    },
    {
      "cell_type": "markdown",
      "source": [
        "#Autoencoder\n"
      ],
      "metadata": {
        "id": "HwsENxozXq7M"
      }
    },
    {
      "cell_type": "code",
      "source": [
        "class AutoEncoder(nn.Module):\n",
        "    def __init__(self, input_dim, latent_dim=16):\n",
        "        \"\"\"\n",
        "        input_dim: dimensionality of input data (D)\n",
        "        latent_dim: dimensionality of the bottleneck layer\n",
        "        \"\"\"\n",
        "        super(AutoEncoder, self).__init__()\n",
        "\n",
        "        # Encoder: maps input to latent vector -> lower dimension\n",
        "        self.encoder = nn.Sequential(\n",
        "            nn.Linear(input_dim, 64),\n",
        "            nn.ReLU(),\n",
        "\n",
        "            nn.Linear(64, 32),\n",
        "            nn.ReLU(),\n",
        "\n",
        "            nn.Linear(32, latent_dim)\n",
        "        )\n",
        "\n",
        "        # Decoder: reconstructs input from latent vector\n",
        "        self.decoder = nn.Sequential(\n",
        "            nn.Linear(latent_dim, 32),\n",
        "            nn.ReLU(),\n",
        "            nn.Linear(32, 64),\n",
        "            nn.ReLU(),\n",
        "            nn.Linear(64, input_dim)\n",
        "        )\n",
        "\n",
        "    def encode(self, x):\n",
        "        return self.encoder(x)\n",
        "\n",
        "    def decode(self, z):\n",
        "        return self.decoder(z)\n",
        "\n",
        "    def forward(self, x):\n",
        "        z = self.encode(x)\n",
        "        reconstructed = self.decode(z)\n",
        "        return reconstructed"
      ],
      "metadata": {
        "id": "Ne1VDMcEgpLs"
      },
      "execution_count": null,
      "outputs": []
    },
    {
      "cell_type": "code",
      "source": [
        "# Initialize the autoencoder\n",
        "latent_dim = 16  #final latent dimensions\n",
        "autoencoder_model = AutoEncoder(input_dim=D, latent_dim=latent_dim).to(device)\n",
        "\n",
        "# Autoencoder uses L1 regularization for reconstruction -> for feature selection\n",
        "criterion = nn.MSELoss()\n",
        "optimizer = optim.Adam(autoencoder_model.parameters(), lr=1e-4) #CAN GRID SEARCH HERE\n"
      ],
      "metadata": {
        "id": "QD1SUFM-gtfL"
      },
      "execution_count": null,
      "outputs": []
    },
    {
      "cell_type": "code",
      "source": [
        "# Training Loop\n",
        "torch.autograd.set_detect_anomaly(True)\n",
        "num_epochs = 20\n",
        "\n",
        "# Training Loop\n",
        "num_epochs = 20\n",
        "for epoch in range(num_epochs):\n",
        "    autoencoder_model.train()\n",
        "    total_loss = 0.0\n",
        "\n",
        "    for batch in train_loader:\n",
        "        x_batch = batch[0].to(device)\n",
        "\n",
        "        # Forward pass\n",
        "        reconstructed = autoencoder_model(x_batch)\n",
        "        loss = criterion(reconstructed, x_batch)\n",
        "\n",
        "        # Backward pass and optimization\n",
        "        optimizer.zero_grad()\n",
        "        loss.backward()\n",
        "        optimizer.step()\n",
        "\n",
        "        total_loss += loss.item()\n",
        "\n",
        "    avg_loss = total_loss / len(train_loader)\n",
        "    if (epoch + 1) % 5 == 0:\n",
        "        print(f\"Epoch [{epoch+1}/{num_epochs}], Loss: {avg_loss:.4f}\")\n",
        "\n",
        "print(\"Training complete!\")"
      ],
      "metadata": {
        "colab": {
          "base_uri": "https://localhost:8080/"
        },
        "id": "Tc7fPgNqVh8L",
        "outputId": "abdb1a93-2b6a-41e5-e10f-ddff71458d36"
      },
      "execution_count": null,
      "outputs": [
        {
          "output_type": "stream",
          "name": "stdout",
          "text": [
            "Epoch [5/20], Loss: 6089.5253\n",
            "Epoch [10/20], Loss: 5996.3058\n",
            "Epoch [15/20], Loss: 5671.2565\n",
            "Epoch [20/20], Loss: 4681.9428\n",
            "Training complete!\n"
          ]
        }
      ]
    },
    {
      "cell_type": "code",
      "source": [
        "# Extract Latent Embeddings\n",
        "\n",
        "autoencoder_model.eval()\n",
        "\n",
        "with torch.no_grad():\n",
        "    # Encode the entire dataset to get latent vectors\n",
        "    X_latent = []\n",
        "    for batch in train_loader:\n",
        "        x_batch = batch[0].to(device)\n",
        "        z = autoencoder_model.encode(x_batch)\n",
        "        X_latent.append(z.cpu().numpy())\n",
        "\n",
        "    # Concatenate all latent vectors into one array\n",
        "    X_latent = np.concatenate(X_latent, axis=0)\n",
        "\n",
        "print(\"Shape of latent representations:\", X_latent.shape) #latent representation (also called the bottleneck layer)\n",
        "\n",
        "df_latent = pd.DataFrame(X_latent)\n",
        "df_latent.head()"
      ],
      "metadata": {
        "colab": {
          "base_uri": "https://localhost:8080/",
          "height": 243
        },
        "id": "borxaaLlgxS0",
        "outputId": "fae217d7-5356-4cd1-f0e5-6bca97e9c243"
      },
      "execution_count": null,
      "outputs": [
        {
          "output_type": "stream",
          "name": "stdout",
          "text": [
            "Shape of latent representations: (640, 16)\n"
          ]
        },
        {
          "output_type": "execute_result",
          "data": {
            "text/plain": [
              "           0          1           2          3          4          5   \\\n",
              "0  -28.167721 -16.869663  -38.625114 -21.519382  -5.880237  28.165070   \n",
              "1  -92.693825 -57.009338 -128.188187 -70.363075 -18.988579  90.995491   \n",
              "2 -100.115257 -61.739113 -138.538712 -75.732582 -20.471647  98.065872   \n",
              "3  -38.944183 -23.582579  -53.489704 -29.826578  -8.119054  38.622990   \n",
              "4  -88.951103 -55.436054 -123.154358 -67.322128 -17.935978  86.475983   \n",
              "\n",
              "          6          7          8          9          10         11  \\\n",
              "0  14.953264  16.716862 -26.482983  -9.459807  11.729166 -18.824837   \n",
              "1  49.768963  55.630394 -88.894478 -31.310032  39.033157 -60.450634   \n",
              "2  53.579060  60.022728 -96.241341 -33.682575  42.123272 -64.973534   \n",
              "3  20.991383  23.274677 -36.732811 -13.264871  16.300257 -25.975601   \n",
              "4  47.345108  53.423351 -84.596031 -30.648981  37.861588 -56.935627   \n",
              "\n",
              "          12         13         14         15  \n",
              "0   9.646103 -18.620653  25.499838  16.237953  \n",
              "1  32.145241 -60.647045  86.215851  53.122211  \n",
              "2  34.967762 -65.407639  93.141853  57.005951  \n",
              "3  13.213985 -25.587406  35.676048  22.650547  \n",
              "4  30.695606 -57.348610  81.589790  49.949200  "
            ],
            "text/html": [
              "\n",
              "  <div id=\"df-da94230e-476a-4e18-8f65-bd2cb417a216\" class=\"colab-df-container\">\n",
              "    <div>\n",
              "<style scoped>\n",
              "    .dataframe tbody tr th:only-of-type {\n",
              "        vertical-align: middle;\n",
              "    }\n",
              "\n",
              "    .dataframe tbody tr th {\n",
              "        vertical-align: top;\n",
              "    }\n",
              "\n",
              "    .dataframe thead th {\n",
              "        text-align: right;\n",
              "    }\n",
              "</style>\n",
              "<table border=\"1\" class=\"dataframe\">\n",
              "  <thead>\n",
              "    <tr style=\"text-align: right;\">\n",
              "      <th></th>\n",
              "      <th>0</th>\n",
              "      <th>1</th>\n",
              "      <th>2</th>\n",
              "      <th>3</th>\n",
              "      <th>4</th>\n",
              "      <th>5</th>\n",
              "      <th>6</th>\n",
              "      <th>7</th>\n",
              "      <th>8</th>\n",
              "      <th>9</th>\n",
              "      <th>10</th>\n",
              "      <th>11</th>\n",
              "      <th>12</th>\n",
              "      <th>13</th>\n",
              "      <th>14</th>\n",
              "      <th>15</th>\n",
              "    </tr>\n",
              "  </thead>\n",
              "  <tbody>\n",
              "    <tr>\n",
              "      <th>0</th>\n",
              "      <td>-28.167721</td>\n",
              "      <td>-16.869663</td>\n",
              "      <td>-38.625114</td>\n",
              "      <td>-21.519382</td>\n",
              "      <td>-5.880237</td>\n",
              "      <td>28.165070</td>\n",
              "      <td>14.953264</td>\n",
              "      <td>16.716862</td>\n",
              "      <td>-26.482983</td>\n",
              "      <td>-9.459807</td>\n",
              "      <td>11.729166</td>\n",
              "      <td>-18.824837</td>\n",
              "      <td>9.646103</td>\n",
              "      <td>-18.620653</td>\n",
              "      <td>25.499838</td>\n",
              "      <td>16.237953</td>\n",
              "    </tr>\n",
              "    <tr>\n",
              "      <th>1</th>\n",
              "      <td>-92.693825</td>\n",
              "      <td>-57.009338</td>\n",
              "      <td>-128.188187</td>\n",
              "      <td>-70.363075</td>\n",
              "      <td>-18.988579</td>\n",
              "      <td>90.995491</td>\n",
              "      <td>49.768963</td>\n",
              "      <td>55.630394</td>\n",
              "      <td>-88.894478</td>\n",
              "      <td>-31.310032</td>\n",
              "      <td>39.033157</td>\n",
              "      <td>-60.450634</td>\n",
              "      <td>32.145241</td>\n",
              "      <td>-60.647045</td>\n",
              "      <td>86.215851</td>\n",
              "      <td>53.122211</td>\n",
              "    </tr>\n",
              "    <tr>\n",
              "      <th>2</th>\n",
              "      <td>-100.115257</td>\n",
              "      <td>-61.739113</td>\n",
              "      <td>-138.538712</td>\n",
              "      <td>-75.732582</td>\n",
              "      <td>-20.471647</td>\n",
              "      <td>98.065872</td>\n",
              "      <td>53.579060</td>\n",
              "      <td>60.022728</td>\n",
              "      <td>-96.241341</td>\n",
              "      <td>-33.682575</td>\n",
              "      <td>42.123272</td>\n",
              "      <td>-64.973534</td>\n",
              "      <td>34.967762</td>\n",
              "      <td>-65.407639</td>\n",
              "      <td>93.141853</td>\n",
              "      <td>57.005951</td>\n",
              "    </tr>\n",
              "    <tr>\n",
              "      <th>3</th>\n",
              "      <td>-38.944183</td>\n",
              "      <td>-23.582579</td>\n",
              "      <td>-53.489704</td>\n",
              "      <td>-29.826578</td>\n",
              "      <td>-8.119054</td>\n",
              "      <td>38.622990</td>\n",
              "      <td>20.991383</td>\n",
              "      <td>23.274677</td>\n",
              "      <td>-36.732811</td>\n",
              "      <td>-13.264871</td>\n",
              "      <td>16.300257</td>\n",
              "      <td>-25.975601</td>\n",
              "      <td>13.213985</td>\n",
              "      <td>-25.587406</td>\n",
              "      <td>35.676048</td>\n",
              "      <td>22.650547</td>\n",
              "    </tr>\n",
              "    <tr>\n",
              "      <th>4</th>\n",
              "      <td>-88.951103</td>\n",
              "      <td>-55.436054</td>\n",
              "      <td>-123.154358</td>\n",
              "      <td>-67.322128</td>\n",
              "      <td>-17.935978</td>\n",
              "      <td>86.475983</td>\n",
              "      <td>47.345108</td>\n",
              "      <td>53.423351</td>\n",
              "      <td>-84.596031</td>\n",
              "      <td>-30.648981</td>\n",
              "      <td>37.861588</td>\n",
              "      <td>-56.935627</td>\n",
              "      <td>30.695606</td>\n",
              "      <td>-57.348610</td>\n",
              "      <td>81.589790</td>\n",
              "      <td>49.949200</td>\n",
              "    </tr>\n",
              "  </tbody>\n",
              "</table>\n",
              "</div>\n",
              "    <div class=\"colab-df-buttons\">\n",
              "\n",
              "  <div class=\"colab-df-container\">\n",
              "    <button class=\"colab-df-convert\" onclick=\"convertToInteractive('df-da94230e-476a-4e18-8f65-bd2cb417a216')\"\n",
              "            title=\"Convert this dataframe to an interactive table.\"\n",
              "            style=\"display:none;\">\n",
              "\n",
              "  <svg xmlns=\"http://www.w3.org/2000/svg\" height=\"24px\" viewBox=\"0 -960 960 960\">\n",
              "    <path d=\"M120-120v-720h720v720H120Zm60-500h600v-160H180v160Zm220 220h160v-160H400v160Zm0 220h160v-160H400v160ZM180-400h160v-160H180v160Zm440 0h160v-160H620v160ZM180-180h160v-160H180v160Zm440 0h160v-160H620v160Z\"/>\n",
              "  </svg>\n",
              "    </button>\n",
              "\n",
              "  <style>\n",
              "    .colab-df-container {\n",
              "      display:flex;\n",
              "      gap: 12px;\n",
              "    }\n",
              "\n",
              "    .colab-df-convert {\n",
              "      background-color: #E8F0FE;\n",
              "      border: none;\n",
              "      border-radius: 50%;\n",
              "      cursor: pointer;\n",
              "      display: none;\n",
              "      fill: #1967D2;\n",
              "      height: 32px;\n",
              "      padding: 0 0 0 0;\n",
              "      width: 32px;\n",
              "    }\n",
              "\n",
              "    .colab-df-convert:hover {\n",
              "      background-color: #E2EBFA;\n",
              "      box-shadow: 0px 1px 2px rgba(60, 64, 67, 0.3), 0px 1px 3px 1px rgba(60, 64, 67, 0.15);\n",
              "      fill: #174EA6;\n",
              "    }\n",
              "\n",
              "    .colab-df-buttons div {\n",
              "      margin-bottom: 4px;\n",
              "    }\n",
              "\n",
              "    [theme=dark] .colab-df-convert {\n",
              "      background-color: #3B4455;\n",
              "      fill: #D2E3FC;\n",
              "    }\n",
              "\n",
              "    [theme=dark] .colab-df-convert:hover {\n",
              "      background-color: #434B5C;\n",
              "      box-shadow: 0px 1px 3px 1px rgba(0, 0, 0, 0.15);\n",
              "      filter: drop-shadow(0px 1px 2px rgba(0, 0, 0, 0.3));\n",
              "      fill: #FFFFFF;\n",
              "    }\n",
              "  </style>\n",
              "\n",
              "    <script>\n",
              "      const buttonEl =\n",
              "        document.querySelector('#df-da94230e-476a-4e18-8f65-bd2cb417a216 button.colab-df-convert');\n",
              "      buttonEl.style.display =\n",
              "        google.colab.kernel.accessAllowed ? 'block' : 'none';\n",
              "\n",
              "      async function convertToInteractive(key) {\n",
              "        const element = document.querySelector('#df-da94230e-476a-4e18-8f65-bd2cb417a216');\n",
              "        const dataTable =\n",
              "          await google.colab.kernel.invokeFunction('convertToInteractive',\n",
              "                                                    [key], {});\n",
              "        if (!dataTable) return;\n",
              "\n",
              "        const docLinkHtml = 'Like what you see? Visit the ' +\n",
              "          '<a target=\"_blank\" href=https://colab.research.google.com/notebooks/data_table.ipynb>data table notebook</a>'\n",
              "          + ' to learn more about interactive tables.';\n",
              "        element.innerHTML = '';\n",
              "        dataTable['output_type'] = 'display_data';\n",
              "        await google.colab.output.renderOutput(dataTable, element);\n",
              "        const docLink = document.createElement('div');\n",
              "        docLink.innerHTML = docLinkHtml;\n",
              "        element.appendChild(docLink);\n",
              "      }\n",
              "    </script>\n",
              "  </div>\n",
              "\n",
              "\n",
              "<div id=\"df-e1b9405d-f08f-472d-9ab2-8cd0ded82669\">\n",
              "  <button class=\"colab-df-quickchart\" onclick=\"quickchart('df-e1b9405d-f08f-472d-9ab2-8cd0ded82669')\"\n",
              "            title=\"Suggest charts\"\n",
              "            style=\"display:none;\">\n",
              "\n",
              "<svg xmlns=\"http://www.w3.org/2000/svg\" height=\"24px\"viewBox=\"0 0 24 24\"\n",
              "     width=\"24px\">\n",
              "    <g>\n",
              "        <path d=\"M19 3H5c-1.1 0-2 .9-2 2v14c0 1.1.9 2 2 2h14c1.1 0 2-.9 2-2V5c0-1.1-.9-2-2-2zM9 17H7v-7h2v7zm4 0h-2V7h2v10zm4 0h-2v-4h2v4z\"/>\n",
              "    </g>\n",
              "</svg>\n",
              "  </button>\n",
              "\n",
              "<style>\n",
              "  .colab-df-quickchart {\n",
              "      --bg-color: #E8F0FE;\n",
              "      --fill-color: #1967D2;\n",
              "      --hover-bg-color: #E2EBFA;\n",
              "      --hover-fill-color: #174EA6;\n",
              "      --disabled-fill-color: #AAA;\n",
              "      --disabled-bg-color: #DDD;\n",
              "  }\n",
              "\n",
              "  [theme=dark] .colab-df-quickchart {\n",
              "      --bg-color: #3B4455;\n",
              "      --fill-color: #D2E3FC;\n",
              "      --hover-bg-color: #434B5C;\n",
              "      --hover-fill-color: #FFFFFF;\n",
              "      --disabled-bg-color: #3B4455;\n",
              "      --disabled-fill-color: #666;\n",
              "  }\n",
              "\n",
              "  .colab-df-quickchart {\n",
              "    background-color: var(--bg-color);\n",
              "    border: none;\n",
              "    border-radius: 50%;\n",
              "    cursor: pointer;\n",
              "    display: none;\n",
              "    fill: var(--fill-color);\n",
              "    height: 32px;\n",
              "    padding: 0;\n",
              "    width: 32px;\n",
              "  }\n",
              "\n",
              "  .colab-df-quickchart:hover {\n",
              "    background-color: var(--hover-bg-color);\n",
              "    box-shadow: 0 1px 2px rgba(60, 64, 67, 0.3), 0 1px 3px 1px rgba(60, 64, 67, 0.15);\n",
              "    fill: var(--button-hover-fill-color);\n",
              "  }\n",
              "\n",
              "  .colab-df-quickchart-complete:disabled,\n",
              "  .colab-df-quickchart-complete:disabled:hover {\n",
              "    background-color: var(--disabled-bg-color);\n",
              "    fill: var(--disabled-fill-color);\n",
              "    box-shadow: none;\n",
              "  }\n",
              "\n",
              "  .colab-df-spinner {\n",
              "    border: 2px solid var(--fill-color);\n",
              "    border-color: transparent;\n",
              "    border-bottom-color: var(--fill-color);\n",
              "    animation:\n",
              "      spin 1s steps(1) infinite;\n",
              "  }\n",
              "\n",
              "  @keyframes spin {\n",
              "    0% {\n",
              "      border-color: transparent;\n",
              "      border-bottom-color: var(--fill-color);\n",
              "      border-left-color: var(--fill-color);\n",
              "    }\n",
              "    20% {\n",
              "      border-color: transparent;\n",
              "      border-left-color: var(--fill-color);\n",
              "      border-top-color: var(--fill-color);\n",
              "    }\n",
              "    30% {\n",
              "      border-color: transparent;\n",
              "      border-left-color: var(--fill-color);\n",
              "      border-top-color: var(--fill-color);\n",
              "      border-right-color: var(--fill-color);\n",
              "    }\n",
              "    40% {\n",
              "      border-color: transparent;\n",
              "      border-right-color: var(--fill-color);\n",
              "      border-top-color: var(--fill-color);\n",
              "    }\n",
              "    60% {\n",
              "      border-color: transparent;\n",
              "      border-right-color: var(--fill-color);\n",
              "    }\n",
              "    80% {\n",
              "      border-color: transparent;\n",
              "      border-right-color: var(--fill-color);\n",
              "      border-bottom-color: var(--fill-color);\n",
              "    }\n",
              "    90% {\n",
              "      border-color: transparent;\n",
              "      border-bottom-color: var(--fill-color);\n",
              "    }\n",
              "  }\n",
              "</style>\n",
              "\n",
              "  <script>\n",
              "    async function quickchart(key) {\n",
              "      const quickchartButtonEl =\n",
              "        document.querySelector('#' + key + ' button');\n",
              "      quickchartButtonEl.disabled = true;  // To prevent multiple clicks.\n",
              "      quickchartButtonEl.classList.add('colab-df-spinner');\n",
              "      try {\n",
              "        const charts = await google.colab.kernel.invokeFunction(\n",
              "            'suggestCharts', [key], {});\n",
              "      } catch (error) {\n",
              "        console.error('Error during call to suggestCharts:', error);\n",
              "      }\n",
              "      quickchartButtonEl.classList.remove('colab-df-spinner');\n",
              "      quickchartButtonEl.classList.add('colab-df-quickchart-complete');\n",
              "    }\n",
              "    (() => {\n",
              "      let quickchartButtonEl =\n",
              "        document.querySelector('#df-e1b9405d-f08f-472d-9ab2-8cd0ded82669 button');\n",
              "      quickchartButtonEl.style.display =\n",
              "        google.colab.kernel.accessAllowed ? 'block' : 'none';\n",
              "    })();\n",
              "  </script>\n",
              "</div>\n",
              "\n",
              "    </div>\n",
              "  </div>\n"
            ],
            "application/vnd.google.colaboratory.intrinsic+json": {
              "type": "dataframe",
              "variable_name": "df_latent",
              "summary": "{\n  \"name\": \"df_latent\",\n  \"rows\": 640,\n  \"fields\": [\n    {\n      \"column\": 0,\n      \"properties\": {\n        \"dtype\": \"float32\",\n        \"num_unique_values\": 629,\n        \"samples\": [\n          -87.7182388305664,\n          -91.47209930419922,\n          -24.942209243774414\n        ],\n        \"semantic_type\": \"\",\n        \"description\": \"\"\n      }\n    },\n    {\n      \"column\": 1,\n      \"properties\": {\n        \"dtype\": \"float32\",\n        \"num_unique_values\": 629,\n        \"samples\": [\n          -53.893768310546875,\n          -56.775177001953125,\n          -15.02840518951416\n        ],\n        \"semantic_type\": \"\",\n        \"description\": \"\"\n      }\n    },\n    {\n      \"column\": 2,\n      \"properties\": {\n        \"dtype\": \"float32\",\n        \"num_unique_values\": 629,\n        \"samples\": [\n          -121.48938751220703,\n          -126.58576965332031,\n          -34.33522415161133\n        ],\n        \"semantic_type\": \"\",\n        \"description\": \"\"\n      }\n    },\n    {\n      \"column\": 3,\n      \"properties\": {\n        \"dtype\": \"float32\",\n        \"num_unique_values\": 629,\n        \"samples\": [\n          -66.72311401367188,\n          -69.28748321533203,\n          -19.316020965576172\n        ],\n        \"semantic_type\": \"\",\n        \"description\": \"\"\n      }\n    },\n    {\n      \"column\": 4,\n      \"properties\": {\n        \"dtype\": \"float32\",\n        \"num_unique_values\": 629,\n        \"samples\": [\n          -17.94022560119629,\n          -18.65447235107422,\n          -5.15731954574585\n        ],\n        \"semantic_type\": \"\",\n        \"description\": \"\"\n      }\n    },\n    {\n      \"column\": 5,\n      \"properties\": {\n        \"dtype\": \"float32\",\n        \"num_unique_values\": 629,\n        \"samples\": [\n          86.24317169189453,\n          89.20439910888672,\n          24.898056030273438\n        ],\n        \"semantic_type\": \"\",\n        \"description\": \"\"\n      }\n    },\n    {\n      \"column\": 6,\n      \"properties\": {\n        \"dtype\": \"float32\",\n        \"num_unique_values\": 628,\n        \"samples\": [\n          58.3641242980957,\n          25.139209747314453,\n          13.4559965133667\n        ],\n        \"semantic_type\": \"\",\n        \"description\": \"\"\n      }\n    },\n    {\n      \"column\": 7,\n      \"properties\": {\n        \"dtype\": \"float32\",\n        \"num_unique_values\": 629,\n        \"samples\": [\n          52.73167419433594,\n          54.89167404174805,\n          14.965421676635742\n        ],\n        \"semantic_type\": \"\",\n        \"description\": \"\"\n      }\n    },\n    {\n      \"column\": 8,\n      \"properties\": {\n        \"dtype\": \"float32\",\n        \"num_unique_values\": 628,\n        \"samples\": [\n          -104.38764953613281,\n          -44.898292541503906,\n          -23.44563102722168\n        ],\n        \"semantic_type\": \"\",\n        \"description\": \"\"\n      }\n    },\n    {\n      \"column\": 9,\n      \"properties\": {\n        \"dtype\": \"float32\",\n        \"num_unique_values\": 629,\n        \"samples\": [\n          -29.654203414916992,\n          -31.331418991088867,\n          -8.514758110046387\n        ],\n        \"semantic_type\": \"\",\n        \"description\": \"\"\n      }\n    },\n    {\n      \"column\": 10,\n      \"properties\": {\n        \"dtype\": \"float32\",\n        \"num_unique_values\": 629,\n        \"samples\": [\n          37.00291442871094,\n          38.60332489013672,\n          10.44482135772705\n        ],\n        \"semantic_type\": \"\",\n        \"description\": \"\"\n      }\n    },\n    {\n      \"column\": 11,\n      \"properties\": {\n        \"dtype\": \"float32\",\n        \"num_unique_values\": 629,\n        \"samples\": [\n          -57.265296936035156,\n          -58.99949264526367,\n          -16.867671966552734\n        ],\n        \"semantic_type\": \"\",\n        \"description\": \"\"\n      }\n    },\n    {\n      \"column\": 12,\n      \"properties\": {\n        \"dtype\": \"float32\",\n        \"num_unique_values\": 629,\n        \"samples\": [\n          30.374868392944336,\n          31.61785316467285,\n          8.487327575683594\n        ],\n        \"semantic_type\": \"\",\n        \"description\": \"\"\n      }\n    },\n    {\n      \"column\": 13,\n      \"properties\": {\n        \"dtype\": \"float32\",\n        \"num_unique_values\": 629,\n        \"samples\": [\n          -57.411476135253906,\n          -59.17355728149414,\n          -16.56541633605957\n        ],\n        \"semantic_type\": \"\",\n        \"description\": \"\"\n      }\n    },\n    {\n      \"column\": 14,\n      \"properties\": {\n        \"dtype\": \"float32\",\n        \"num_unique_values\": 628,\n        \"samples\": [\n          100.78475189208984,\n          43.499813079833984,\n          22.884000778198242\n        ],\n        \"semantic_type\": \"\",\n        \"description\": \"\"\n      }\n    },\n    {\n      \"column\": 15,\n      \"properties\": {\n        \"dtype\": \"float32\",\n        \"num_unique_values\": 628,\n        \"samples\": [\n          61.68817138671875,\n          27.15650749206543,\n          14.736577033996582\n        ],\n        \"semantic_type\": \"\",\n        \"description\": \"\"\n      }\n    }\n  ]\n}"
            }
          },
          "metadata": {},
          "execution_count": 12
        }
      ]
    },
    {
      "cell_type": "code",
      "source": [
        "#Find out what are the potential features taken in the final latent dimensions\n",
        "\n",
        "from sklearn.decomposition import PCA\n",
        "import matplotlib.pyplot as plt\n",
        "\n",
        "# Perform PCA to investigate which features are the most represented\n",
        "pca = PCA(n_components=16)\n",
        "pca.fit(df_latent)\n",
        "\n",
        "# Get explained variance\n",
        "explained_variance = pca.explained_variance_ratio_\n",
        "\n",
        "# Create a DataFrame for visualization\n",
        "pca_df = pd.DataFrame({'Component': range(1, 17), 'Explained Variance': explained_variance})\n",
        "\n",
        "# Plot the explained variance\n",
        "plt.figure(figsize=(8, 5))\n",
        "plt.bar(range(1, 17), explained_variance, tick_label=np.arange(1, 17))\n",
        "plt.xlabel(\"Principal Component\")\n",
        "plt.ylabel(\"Explained Variance Ratio\")\n",
        "plt.title(\"PCA - Explained Variance per Component\")\n",
        "plt.xticks(np.arange(1, 17))\n",
        "plt.grid(axis='y', linestyle='--', alpha=0.7)\n",
        "plt.show()\n",
        "\n",
        "print(explained_variance)"
      ],
      "metadata": {
        "colab": {
          "base_uri": "https://localhost:8080/",
          "height": 556
        },
        "id": "ls3t6ZG5CYQI",
        "outputId": "9d71cc42-f68d-41bd-ec1c-31f9a12fd491"
      },
      "execution_count": null,
      "outputs": [
        {
          "output_type": "display_data",
          "data": {
            "text/plain": [
              "<Figure size 800x500 with 1 Axes>"
            ],
            "image/png": "[encoded data removed]"
          },
          "metadata": {}
        },
        {
          "output_type": "stream",
          "name": "stdout",
          "text": [
            "[9.9978513e-01 1.5654719e-04 4.3187869e-05 7.2391031e-06 4.7776571e-06\n",
            " 1.4103738e-06 9.6133977e-07 3.7993377e-07 2.3539997e-07 1.5983973e-07\n",
            " 7.2482848e-08 3.4738036e-08 0.0000000e+00 0.0000000e+00 0.0000000e+00\n",
            " 0.0000000e+00]\n"
          ]
        }
      ]
    },
    {
      "cell_type": "markdown",
      "source": [
        "#KMeans"
      ],
      "metadata": {
        "id": "vmzoPQe4XxCy"
      }
    },
    {
      "cell_type": "markdown",
      "source": [
        "Cluster-Specific Regression:\n",
        "\n",
        "Next, you would take X_latent and run k-means to find clusters.\n",
        "Then, for each cluster, you can train a separate MLP regressor (using your original input features or the latent vectors) to predict CCS.\n"
      ],
      "metadata": {
        "id": "bDeIu8sRhYVw"
      }
    },
    {
      "cell_type": "code",
      "source": [
        "!pip install kmeans-pytorch"
      ],
      "metadata": {
        "colab": {
          "base_uri": "https://localhost:8080/"
        },
        "id": "fTpWyPfQr0HO",
        "outputId": "2e96cc39-679a-4acd-a511-740fe7f0c1b6"
      },
      "execution_count": null,
      "outputs": [
        {
          "output_type": "stream",
          "name": "stdout",
          "text": [
            "Collecting kmeans-pytorch\n",
            "  Downloading kmeans_pytorch-0.3-py3-none-any.whl.metadata (1.6 kB)\n",
            "Downloading kmeans_pytorch-0.3-py3-none-any.whl (4.4 kB)\n",
            "Installing collected packages: kmeans-pytorch\n",
            "Successfully installed kmeans-pytorch-0.3\n"
          ]
        }
      ]
    },
    {
      "cell_type": "code",
      "source": [
        "import torch\n",
        "from kmeans_pytorch import kmeans"
      ],
      "metadata": {
        "id": "9JQ95K4tr20y"
      },
      "execution_count": null,
      "outputs": []
    },
    {
      "cell_type": "code",
      "source": [
        "X_latent_tensor = torch.from_numpy(X_latent).to(device)\n",
        "\n",
        "num_clusters = 4\n",
        "\n",
        "# Run K-Means clustering on the latent representation\n",
        "cluster_ids, cluster_centers = kmeans(\n",
        "    X_latent_tensor, num_clusters, distance='euclidean', device=device\n",
        ")"
      ],
      "metadata": {
        "colab": {
          "base_uri": "https://localhost:8080/"
        },
        "id": "qUwNThCZi0E2",
        "outputId": "ef56c7f7-aaf0-4f44-fc8a-a6838d436aa5"
      },
      "execution_count": null,
      "outputs": [
        {
          "output_type": "stream",
          "name": "stdout",
          "text": [
            "running k-means on cuda..\n"
          ]
        },
        {
          "output_type": "stream",
          "name": "stderr",
          "text": [
            "[running kmeans]: 7it [00:00, 13.41it/s, center_shift=0.000000, iteration=7, tol=0.000100]\n"
          ]
        }
      ]
    },
    {
      "cell_type": "code",
      "source": [
        "print(X_latent.shape)\n",
        "print(X_latent_tensor.shape)"
      ],
      "metadata": {
        "colab": {
          "base_uri": "https://localhost:8080/"
        },
        "id": "BqZn0N6TwxG1",
        "outputId": "589b6754-b3ea-4548-c907-737aaef13d47"
      },
      "execution_count": null,
      "outputs": [
        {
          "output_type": "stream",
          "name": "stdout",
          "text": [
            "(640, 16)\n",
            "torch.Size([640, 16])\n"
          ]
        }
      ]
    },
    {
      "cell_type": "code",
      "source": [
        "# Print the results\n",
        "print(\"Cluster IDs for the first 10 samples:\", cluster_ids[:10])\n",
        "print(\"Cluster Centers:\\n\", cluster_centers)\n",
        "\n",
        "# Ensure cluster_ids and cluster_centers are well-formed\n",
        "print(\"Cluster ID shape:\", cluster_ids.shape)  # Should be (num_samples,)\n",
        "print(\"Cluster Center shape:\", cluster_centers.shape)  # Should be (num_clusters, num_features)\n",
        "\n",
        "# Check if all cluster IDs are within the expected range\n",
        "print(\"Unique cluster IDs:\", torch.unique(cluster_ids))\n",
        "\n",
        "\n",
        "cluster_ids_np = cluster_ids.cpu().numpy()\n",
        "plt.scatter(X_latent[:, 0], X_latent[:, 1], c=cluster_ids_np, cmap='viridis', alpha=0.5)\n",
        "plt.scatter(cluster_centers[:, 0].cpu().numpy(), cluster_centers[:, 1].cpu().numpy(),\n",
        "            c='red', marker='x', s=100, label=\"Centroids\")\n",
        "plt.title(\"K-Means Clustering Results\")\n",
        "plt.xlabel(\"PCA 1\")\n",
        "plt.ylabel(\"PCA 2\")\n",
        "plt.legend()\n",
        "plt.show()"
      ],
      "metadata": {
        "colab": {
          "base_uri": "https://localhost:8080/",
          "height": 767
        },
        "id": "Fu_Z7ytaiTMn",
        "outputId": "eec2c9ba-b635-4848-8403-80b49cc7a4c3"
      },
      "execution_count": null,
      "outputs": [
        {
          "output_type": "stream",
          "name": "stdout",
          "text": [
            "Cluster IDs for the first 10 samples: tensor([1, 2, 2, 3, 2, 3, 3, 3, 1, 1])\n",
            "Cluster Centers:\n",
            " tensor([[ -64.0989,  -38.9265,  -88.5377,  -49.1227,  -13.2768,   63.5620,\n",
            "           34.5520,   38.4427,  -61.0193,  -21.7447,   26.9104,  -42.5918,\n",
            "           22.0359,  -42.2664,   59.3475,   37.2656],\n",
            "        [ -24.3637,  -14.6877,  -33.3923,  -18.6025,   -5.0602,   24.1951,\n",
            "           13.0206,   14.4971,  -23.0385,   -8.1160,   10.0980,  -16.2816,\n",
            "            8.3238,  -16.0903,   22.3791,   14.2200],\n",
            "        [ -99.4254,  -61.1740, -137.5991,  -75.5860,  -20.3765,   97.6174,\n",
            "           53.3350,   59.7029,  -95.0983,  -33.7718,   41.9147,  -64.8564,\n",
            "           34.4270,  -64.9386,   92.1785,   56.8889],\n",
            "        [ -40.8716,  -24.6473,  -56.2497,  -31.2875,   -8.5254,   40.6738,\n",
            "           21.9541,   24.3791,  -38.7938,  -13.7463,   16.9940,  -27.3381,\n",
            "           14.0763,  -27.0389,   37.6652,   23.8108]])\n",
            "Cluster ID shape: torch.Size([640])\n",
            "Cluster Center shape: torch.Size([4, 16])\n",
            "Unique cluster IDs: tensor([0, 1, 2, 3])\n"
          ]
        },
        {
          "output_type": "display_data",
          "data": {
            "text/plain": [
              "<Figure size 640x480 with 1 Axes>"
            ],
            "image/png": "[encoded data removed]"
          },
          "metadata": {}
        }
      ]
    },
    {
      "cell_type": "markdown",
      "source": [
        "#Training Functions"
      ],
      "metadata": {
        "id": "Bu6Ig93kwcA-"
      }
    },
    {
      "cell_type": "code",
      "source": [
        "# Example training function that returns train and validation loss histories\n",
        "def train(model, train_loader, val_loader, num_epochs, learning_rate, compute_accs=False):\n",
        "    optimizer = optim.Adam(model.parameters(), lr=learning_rate)\n",
        "    criterion = nn.MSELoss()  # Using MSE for regression\n",
        "    train_history = []\n",
        "    val_history = []\n",
        "\n",
        "    for epoch in range(num_epochs):\n",
        "        # Training phase\n",
        "        model.train()\n",
        "        total_train_loss = 0.0\n",
        "        for X_batch, y_batch in train_loader:\n",
        "            X_batch, y_batch = X_batch.to(device), y_batch.to(device)\n",
        "            optimizer.zero_grad()\n",
        "            outputs = model(X_batch)\n",
        "            loss = criterion(outputs, y_batch)\n",
        "            loss.backward()\n",
        "            optimizer.step()\n",
        "            total_train_loss += loss.item()\n",
        "        avg_train_loss = total_train_loss / len(train_loader)\n",
        "        train_history.append(avg_train_loss)\n",
        "\n",
        "        # Validation phase\n",
        "        model.eval()\n",
        "        total_val_loss = 0.0\n",
        "        with torch.no_grad():\n",
        "            for X_val, y_val in val_loader:\n",
        "                X_val, y_val = X_val.to(device), y_val.to(device)\n",
        "                outputs = model(X_val)\n",
        "                loss = criterion(outputs, y_val)\n",
        "                total_val_loss += loss.item()\n",
        "        avg_val_loss = total_val_loss / len(val_loader)\n",
        "        val_history.append(avg_val_loss)\n",
        "\n",
        "        mre_train = total_train_loss / len(train_loader.dataset)\n",
        "        mre_val = total_val_loss / len(val_loader.dataset)\n",
        "        print(f\"Epoch {epoch+1}/{num_epochs}, Train Loss: {avg_train_loss:.4f}, Val Loss: {avg_val_loss:.4f}\")\n",
        "        print(f\"Epoch {epoch+1}/{num_epochs}, MRE Train: {mre_train:.4f}, MRE Val: {mre_val:.4f}\")\n",
        "    return train_history, val_history, model\n",
        "\n",
        "# Example plot function to visualize the loss histories\n",
        "def plot_history(histories):\n",
        "    for h in histories:\n",
        "        epochs = range(1, len(h['train_loss']) + 1)\n",
        "        plt.plot(epochs, h['train_loss'], label=f\"{h['name']} Train Loss\")\n",
        "        plt.plot(epochs, h['val_loss'], label=f\"{h['name']} Val Loss\")\n",
        "    plt.xlabel(\"Epoch\")\n",
        "    plt.ylabel(\"Loss\")\n",
        "    plt.legend()\n",
        "    plt.show()"
      ],
      "metadata": {
        "id": "_LTL1-jaweYt"
      },
      "execution_count": null,
      "outputs": []
    },
    {
      "cell_type": "markdown",
      "source": [
        "#MLP Regressor"
      ],
      "metadata": {
        "id": "FPbmyMjW3xM6"
      }
    },
    {
      "cell_type": "code",
      "source": [
        "class MLPRegressor(nn.Module):\n",
        "    def __init__(self, input_dim, hidden_dim=8, output_dim=1):\n",
        "        super(MLPRegressor, self).__init__()\n",
        "\n",
        "        self.fc1 = nn.Linear(input_dim, hidden_dim)\n",
        "        self.relu = nn.ReLU()\n",
        "\n",
        "        # self.fc2 = nn.Linear(hidden_dim, hidden_dim)\n",
        "        # self.relu = nn.ReLU()\n",
        "\n",
        "        self.fc3 = nn.Linear(hidden_dim, output_dim)\n",
        "\n",
        "    def forward(self, x):\n",
        "        x = self.fc1(x)\n",
        "        x = self.relu(x)\n",
        "\n",
        "        # x = self.fc2(x)\n",
        "        # x = self.relu(x)\n",
        "\n",
        "        x = self.fc3(x)\n",
        "\n",
        "        return x\n"
      ],
      "metadata": {
        "id": "ZBfHL9bItMHU"
      },
      "execution_count": null,
      "outputs": []
    },
    {
      "cell_type": "code",
      "source": [
        "print(X_latent_tensor[:1])\n",
        "print(X_latent_tensor.shape[0]) #number of entries\n",
        "print(X_latent_tensor.shape[1]) # input Dimension\n",
        "\n",
        "print(train_loader)"
      ],
      "metadata": {
        "colab": {
          "base_uri": "https://localhost:8080/"
        },
        "id": "oJWFD1lGy-UT",
        "outputId": "9ce90807-7627-46fa-a0b0-f4c748a19955"
      },
      "execution_count": null,
      "outputs": [
        {
          "output_type": "stream",
          "name": "stdout",
          "text": [
            "tensor([[-28.1677, -16.8697, -38.6251, -21.5194,  -5.8802,  28.1651,  14.9533,\n",
            "          16.7169, -26.4830,  -9.4598,  11.7292, -18.8248,   9.6461, -18.6207,\n",
            "          25.4998,  16.2380]], device='cuda:0')\n",
            "640\n",
            "16\n",
            "<torch.utils.data.dataloader.DataLoader object at 0x783659b0c510>\n"
          ]
        }
      ]
    },
    {
      "cell_type": "code",
      "source": [
        "# #Running a global model\n",
        "\n",
        "# regressor_model = MLPRegressor(input_dim=X_latent_tensor.shape[1]).to(device)\n",
        "\n",
        "# # Train the model using the train function\n",
        "# train_history_A, val_history_A, best_model = train(regressor_model, train_loader, validation_loader,\n",
        "#     num_epochs=30, learning_rate=1e-3, compute_accs=True)\n",
        "\n",
        "# histories_A = [{\n",
        "#     'name': 'regressor_model',\n",
        "#     'train_loss': train_history_A,\n",
        "#     'val_loss': val_history_A\n",
        "# }]\n",
        "\n",
        "# # Plot the loss histories\n",
        "# plot_history(histories_A)\n",
        "\n",
        "#Running a global model\n",
        "\n",
        "# Change input_dim to match the original feature dimension\n",
        "regressor_model = MLPRegressor(input_dim=X_tensor.shape[1]).to(device)\n",
        "\n",
        "# Train the model using the train function\n",
        "train_history_A, val_history_A, best_model = train(regressor_model, train_loader, validation_loader,\n",
        "    num_epochs=30, learning_rate=1e-3, compute_accs=True)\n",
        "\n",
        "histories_A = [{\n",
        "    'name': 'regressor_model',\n",
        "    'train_loss': train_history_A,\n",
        "    'val_loss': val_history_A\n",
        "}]\n",
        "\n",
        "# Plot the loss histories\n",
        "plot_history(histories_A)"
      ],
      "metadata": {
        "colab": {
          "base_uri": "https://localhost:8080/",
          "height": 1000
        },
        "id": "_xGlPXLXuudo",
        "outputId": "3a4aca73-f89f-45c6-900a-ecbdcd7af25d"
      },
      "execution_count": null,
      "outputs": [
        {
          "output_type": "stream",
          "name": "stdout",
          "text": [
            "Epoch 1/30, Train Loss: 51516.5020, Val Loss: 47255.4227\n",
            "Epoch 1/30, MRE Train: 804.9453, MRE Val: 738.3660\n",
            "Epoch 2/30, Train Loss: 46390.2156, Val Loss: 42840.5590\n",
            "Epoch 2/30, MRE Train: 724.8471, MRE Val: 669.3837\n",
            "Epoch 3/30, Train Loss: 42141.5195, Val Loss: 39132.8496\n",
            "Epoch 3/30, MRE Train: 658.4612, MRE Val: 611.4508\n",
            "Epoch 4/30, Train Loss: 38412.0738, Val Loss: 35948.9137\n",
            "Epoch 4/30, MRE Train: 600.1887, MRE Val: 561.7018\n",
            "Epoch 5/30, Train Loss: 35618.6844, Val Loss: 33743.0205\n",
            "Epoch 5/30, MRE Train: 556.5419, MRE Val: 527.2347\n",
            "Epoch 6/30, Train Loss: 33470.0500, Val Loss: 31748.3873\n",
            "Epoch 6/30, MRE Train: 522.9695, MRE Val: 496.0686\n",
            "Epoch 7/30, Train Loss: 31384.6969, Val Loss: 29748.1939\n",
            "Epoch 7/30, MRE Train: 490.3859, MRE Val: 464.8155\n",
            "Epoch 8/30, Train Loss: 29264.8289, Val Loss: 27714.4359\n",
            "Epoch 8/30, MRE Train: 457.2630, MRE Val: 433.0381\n",
            "Epoch 9/30, Train Loss: 27124.8256, Val Loss: 25644.9318\n",
            "Epoch 9/30, MRE Train: 423.8254, MRE Val: 400.7021\n",
            "Epoch 10/30, Train Loss: 24952.2988, Val Loss: 23565.5555\n",
            "Epoch 10/30, MRE Train: 389.8797, MRE Val: 368.2118\n",
            "Epoch 11/30, Train Loss: 22801.6656, Val Loss: 21483.8031\n",
            "Epoch 11/30, MRE Train: 356.2760, MRE Val: 335.6844\n",
            "Epoch 12/30, Train Loss: 20652.6873, Val Loss: 19444.4662\n",
            "Epoch 12/30, MRE Train: 322.6982, MRE Val: 303.8198\n",
            "Epoch 13/30, Train Loss: 18558.2994, Val Loss: 17468.4049\n",
            "Epoch 13/30, MRE Train: 289.9734, MRE Val: 272.9438\n",
            "Epoch 14/30, Train Loss: 16531.1309, Val Loss: 15587.7408\n",
            "Epoch 14/30, MRE Train: 258.2989, MRE Val: 243.5585\n",
            "Epoch 15/30, Train Loss: 14630.0621, Val Loss: 13804.4039\n",
            "Epoch 15/30, MRE Train: 228.5947, MRE Val: 215.6938\n",
            "Epoch 16/30, Train Loss: 12859.7689, Val Loss: 12135.4890\n",
            "Epoch 16/30, MRE Train: 200.9339, MRE Val: 189.6170\n",
            "Epoch 17/30, Train Loss: 11195.3724, Val Loss: 10625.7425\n",
            "Epoch 17/30, MRE Train: 174.9277, MRE Val: 166.0272\n",
            "Epoch 18/30, Train Loss: 9707.8346, Val Loss: 9267.3097\n",
            "Epoch 18/30, MRE Train: 151.6849, MRE Val: 144.8017\n",
            "Epoch 19/30, Train Loss: 8385.2226, Val Loss: 8065.9940\n",
            "Epoch 19/30, MRE Train: 131.0191, MRE Val: 126.0312\n",
            "Epoch 20/30, Train Loss: 7238.2063, Val Loss: 7020.2011\n",
            "Epoch 20/30, MRE Train: 113.0970, MRE Val: 109.6906\n",
            "Epoch 21/30, Train Loss: 6248.4849, Val Loss: 6133.6325\n",
            "Epoch 21/30, MRE Train: 97.6326, MRE Val: 95.8380\n",
            "Epoch 22/30, Train Loss: 5411.9691, Val Loss: 5400.3252\n",
            "Epoch 22/30, MRE Train: 84.5620, MRE Val: 84.3801\n",
            "Epoch 23/30, Train Loss: 4734.5240, Val Loss: 4799.7546\n",
            "Epoch 23/30, MRE Train: 73.9769, MRE Val: 74.9962\n",
            "Epoch 24/30, Train Loss: 4189.9105, Val Loss: 4318.2578\n",
            "Epoch 24/30, MRE Train: 65.4674, MRE Val: 67.4728\n",
            "Epoch 25/30, Train Loss: 3773.6097, Val Loss: 3933.5714\n",
            "Epoch 25/30, MRE Train: 58.9627, MRE Val: 61.4621\n",
            "Epoch 26/30, Train Loss: 3431.8953, Val Loss: 3648.6314\n",
            "Epoch 26/30, MRE Train: 53.6234, MRE Val: 57.0099\n",
            "Epoch 27/30, Train Loss: 3196.3123, Val Loss: 3427.4530\n",
            "Epoch 27/30, MRE Train: 49.9424, MRE Val: 53.5540\n",
            "Epoch 28/30, Train Loss: 3012.1815, Val Loss: 3266.7751\n",
            "Epoch 28/30, MRE Train: 47.0653, MRE Val: 51.0434\n",
            "Epoch 29/30, Train Loss: 2879.0626, Val Loss: 3151.6618\n",
            "Epoch 29/30, MRE Train: 44.9854, MRE Val: 49.2447\n",
            "Epoch 30/30, Train Loss: 2787.0520, Val Loss: 3067.7896\n",
            "Epoch 30/30, MRE Train: 43.5477, MRE Val: 47.9342\n"
          ]
        },
        {
          "output_type": "display_data",
          "data": {
            "text/plain": [
              "<Figure size 640x480 with 1 Axes>"
            ],
            "image/png": "[encoded data removed]"
          },
          "metadata": {}
        }
      ]
    },
    {
      "cell_type": "code",
      "source": [
        "# Assuming cluster_ids is a tensor with cluster labels for each sample\n",
        "cluster_models = {}\n",
        "num_clusters = 4  # or the number you used in KMeans\n",
        "\n",
        "for cluster in range(num_clusters):\n",
        "    # Get the indices for the current cluster\n",
        "    indices = (cluster_ids == cluster).nonzero(as_tuple=True)[0]\n",
        "    X_cluster = X_latent_tensor[indices]\n",
        "    y_cluster = y_tensor[indices]\n",
        "\n",
        "    print(f\"Cluster {cluster}: {len(indices)} samples\")\n",
        "\n",
        "    # Create a dataset and DataLoader for this cluster\n",
        "    dataset_cluster = TensorDataset(X_cluster, y_cluster)\n",
        "    loader_cluster = DataLoader(dataset_cluster, batch_size=64, shuffle=True)\n",
        "\n",
        "    # Initialize a new MLP regressor for this cluster\n",
        "    regressor_cluster = MLPRegressor(input_dim=X_cluster.shape[1]).to(device)\n",
        "\n",
        "    # Optional: Create a validation split for this cluster if needed\n",
        "    # For simplicity, here we use the same loader for both train and validation\n",
        "    train_hist, val_hist, best_model = train(regressor_cluster, loader_cluster, loader_cluster,\n",
        "                                             num_epochs=30, learning_rate=1e-3, compute_accs=True)\n",
        "\n",
        "    cluster_models[cluster] = {\n",
        "        \"model\": regressor_cluster,\n",
        "        \"train_loss\": train_hist,\n",
        "        \"val_loss\": val_hist\n",
        "    }\n",
        "\n",
        "# Optionally, plot histories for each cluster model:\n",
        "for cluster, comp in cluster_models.items():\n",
        "    plt.plot(comp[\"train_loss\"], label=f\"Cluster {cluster} Train Loss\")\n",
        "    plt.plot(comp[\"val_loss\"], label=f\"Cluster {cluster} Val Loss\")\n",
        "\n",
        "plt.xlabel(\"Epoch\")\n",
        "plt.ylabel(\"Loss\")\n",
        "plt.legend()\n",
        "plt.show()\n"
      ],
      "metadata": {
        "colab": {
          "base_uri": "https://localhost:8080/",
          "height": 1000
        },
        "id": "rPOXVtfx2IVm",
        "outputId": "63fb8682-1653-48c7-b688-6dcdc5c02d31"
      },
      "execution_count": null,
      "outputs": [
        {
          "output_type": "stream",
          "name": "stdout",
          "text": [
            "Cluster 0: 90 samples\n",
            "Epoch 1/30, Train Loss: 27042.6719, Val Loss: 27727.5020\n",
            "Epoch 1/30, MRE Train: 600.9483, MRE Val: 616.1667\n",
            "Epoch 2/30, Train Loss: 27954.5684, Val Loss: 26729.1377\n",
            "Epoch 2/30, MRE Train: 621.2126, MRE Val: 593.9808\n",
            "Epoch 3/30, Train Loss: 27230.1426, Val Loss: 26053.9453\n",
            "Epoch 3/30, MRE Train: 605.1143, MRE Val: 578.9766\n",
            "Epoch 4/30, Train Loss: 26354.2686, Val Loss: 25555.0146\n",
            "Epoch 4/30, MRE Train: 585.6504, MRE Val: 567.8892\n",
            "Epoch 5/30, Train Loss: 26284.1377, Val Loss: 26082.4258\n",
            "Epoch 5/30, MRE Train: 584.0919, MRE Val: 579.6095\n",
            "Epoch 6/30, Train Loss: 25912.9170, Val Loss: 27632.6709\n",
            "Epoch 6/30, MRE Train: 575.8426, MRE Val: 614.0594\n",
            "Epoch 7/30, Train Loss: 25820.5918, Val Loss: 26041.0938\n",
            "Epoch 7/30, MRE Train: 573.7909, MRE Val: 578.6910\n",
            "Epoch 8/30, Train Loss: 24350.1650, Val Loss: 25345.9160\n",
            "Epoch 8/30, MRE Train: 541.1148, MRE Val: 563.2426\n",
            "Epoch 9/30, Train Loss: 25540.1523, Val Loss: 24627.4688\n",
            "Epoch 9/30, MRE Train: 567.5589, MRE Val: 547.2771\n",
            "Epoch 10/30, Train Loss: 24576.6055, Val Loss: 24706.8730\n",
            "Epoch 10/30, MRE Train: 546.1468, MRE Val: 549.0416\n",
            "Epoch 11/30, Train Loss: 24339.1709, Val Loss: 24761.8184\n",
            "Epoch 11/30, MRE Train: 540.8705, MRE Val: 550.2626\n",
            "Epoch 12/30, Train Loss: 24362.3984, Val Loss: 23520.7900\n",
            "Epoch 12/30, MRE Train: 541.3866, MRE Val: 522.6842\n",
            "Epoch 13/30, Train Loss: 23174.7783, Val Loss: 23764.4180\n",
            "Epoch 13/30, MRE Train: 514.9951, MRE Val: 528.0982\n",
            "Epoch 14/30, Train Loss: 24988.2021, Val Loss: 24230.9150\n",
            "Epoch 14/30, MRE Train: 555.2934, MRE Val: 538.4648\n",
            "Epoch 15/30, Train Loss: 22651.7646, Val Loss: 23069.7119\n",
            "Epoch 15/30, MRE Train: 503.3725, MRE Val: 512.6603\n",
            "Epoch 16/30, Train Loss: 22293.3721, Val Loss: 22806.9502\n",
            "Epoch 16/30, MRE Train: 495.4083, MRE Val: 506.8211\n",
            "Epoch 17/30, Train Loss: 22366.3848, Val Loss: 22450.1514\n",
            "Epoch 17/30, MRE Train: 497.0308, MRE Val: 498.8923\n",
            "Epoch 18/30, Train Loss: 22548.9873, Val Loss: 22526.0010\n",
            "Epoch 18/30, MRE Train: 501.0886, MRE Val: 500.5778\n",
            "Epoch 19/30, Train Loss: 21826.8496, Val Loss: 21239.1191\n",
            "Epoch 19/30, MRE Train: 485.0411, MRE Val: 471.9804\n",
            "Epoch 20/30, Train Loss: 22603.3506, Val Loss: 22211.3047\n",
            "Epoch 20/30, MRE Train: 502.2967, MRE Val: 493.5845\n",
            "Epoch 21/30, Train Loss: 22245.3438, Val Loss: 21545.9111\n",
            "Epoch 21/30, MRE Train: 494.3410, MRE Val: 478.7980\n",
            "Epoch 22/30, Train Loss: 21738.3896, Val Loss: 21799.7080\n",
            "Epoch 22/30, MRE Train: 483.0753, MRE Val: 484.4380\n",
            "Epoch 23/30, Train Loss: 21256.3701, Val Loss: 20073.1162\n",
            "Epoch 23/30, MRE Train: 472.3638, MRE Val: 446.0692\n",
            "Epoch 24/30, Train Loss: 20959.8916, Val Loss: 20476.8330\n",
            "Epoch 24/30, MRE Train: 465.7754, MRE Val: 455.0407\n",
            "Epoch 25/30, Train Loss: 20383.1660, Val Loss: 19564.9443\n",
            "Epoch 25/30, MRE Train: 452.9592, MRE Val: 434.7765\n",
            "Epoch 26/30, Train Loss: 19449.4268, Val Loss: 19745.8818\n",
            "Epoch 26/30, MRE Train: 432.2095, MRE Val: 438.7974\n",
            "Epoch 27/30, Train Loss: 20166.7480, Val Loss: 19579.8535\n",
            "Epoch 27/30, MRE Train: 448.1500, MRE Val: 435.1079\n",
            "Epoch 28/30, Train Loss: 20358.6270, Val Loss: 19532.2412\n",
            "Epoch 28/30, MRE Train: 452.4139, MRE Val: 434.0498\n",
            "Epoch 29/30, Train Loss: 19271.5918, Val Loss: 18061.1396\n",
            "Epoch 29/30, MRE Train: 428.2576, MRE Val: 401.3587\n",
            "Epoch 30/30, Train Loss: 18566.3555, Val Loss: 20259.7061\n",
            "Epoch 30/30, MRE Train: 412.5857, MRE Val: 450.2157\n",
            "Cluster 1: 155 samples\n",
            "Epoch 1/30, Train Loss: 24307.5592, Val Loss: 23939.6296\n",
            "Epoch 1/30, MRE Train: 470.4689, MRE Val: 463.3477\n",
            "Epoch 2/30, Train Loss: 24253.6452, Val Loss: 23757.3561\n",
            "Epoch 2/30, MRE Train: 469.4254, MRE Val: 459.8198\n",
            "Epoch 3/30, Train Loss: 23875.2936, Val Loss: 24954.5638\n",
            "Epoch 3/30, MRE Train: 462.1025, MRE Val: 482.9916\n",
            "Epoch 4/30, Train Loss: 24168.2428, Val Loss: 23876.7402\n",
            "Epoch 4/30, MRE Train: 467.7724, MRE Val: 462.1305\n",
            "Epoch 5/30, Train Loss: 24267.9674, Val Loss: 24414.4759\n",
            "Epoch 5/30, MRE Train: 469.7026, MRE Val: 472.5382\n",
            "Epoch 6/30, Train Loss: 23744.4056, Val Loss: 24482.7207\n",
            "Epoch 6/30, MRE Train: 459.5691, MRE Val: 473.8591\n",
            "Epoch 7/30, Train Loss: 24102.7467, Val Loss: 23419.5788\n",
            "Epoch 7/30, MRE Train: 466.5048, MRE Val: 453.2822\n",
            "Epoch 8/30, Train Loss: 24347.8197, Val Loss: 23405.6973\n",
            "Epoch 8/30, MRE Train: 471.2481, MRE Val: 453.0135\n",
            "Epoch 9/30, Train Loss: 24099.5638, Val Loss: 23664.2279\n",
            "Epoch 9/30, MRE Train: 466.4432, MRE Val: 458.0173\n",
            "Epoch 10/30, Train Loss: 23814.8880, Val Loss: 23567.9414\n",
            "Epoch 10/30, MRE Train: 460.9333, MRE Val: 456.1537\n",
            "Epoch 11/30, Train Loss: 22908.7572, Val Loss: 23059.6680\n",
            "Epoch 11/30, MRE Train: 443.3953, MRE Val: 446.3162\n",
            "Epoch 12/30, Train Loss: 23439.0332, Val Loss: 22979.8743\n",
            "Epoch 12/30, MRE Train: 453.6587, MRE Val: 444.7718\n",
            "Epoch 13/30, Train Loss: 22887.5371, Val Loss: 22935.3861\n",
            "Epoch 13/30, MRE Train: 442.9846, MRE Val: 443.9107\n",
            "Epoch 14/30, Train Loss: 22818.6257, Val Loss: 22587.1146\n",
            "Epoch 14/30, MRE Train: 441.6508, MRE Val: 437.1700\n",
            "Epoch 15/30, Train Loss: 22166.7930, Val Loss: 23091.0853\n",
            "Epoch 15/30, MRE Train: 429.0347, MRE Val: 446.9242\n",
            "Epoch 16/30, Train Loss: 23354.1094, Val Loss: 22127.8770\n",
            "Epoch 16/30, MRE Train: 452.0150, MRE Val: 428.2815\n",
            "Epoch 17/30, Train Loss: 22454.4570, Val Loss: 22262.1680\n",
            "Epoch 17/30, MRE Train: 434.6024, MRE Val: 430.8807\n",
            "Epoch 18/30, Train Loss: 22177.3613, Val Loss: 21718.4089\n",
            "Epoch 18/30, MRE Train: 429.2393, MRE Val: 420.3563\n",
            "Epoch 19/30, Train Loss: 21717.3854, Val Loss: 22667.3411\n",
            "Epoch 19/30, MRE Train: 420.3365, MRE Val: 438.7227\n",
            "Epoch 20/30, Train Loss: 22078.5410, Val Loss: 21943.9219\n",
            "Epoch 20/30, MRE Train: 427.3266, MRE Val: 424.7211\n",
            "Epoch 21/30, Train Loss: 21775.9056, Val Loss: 21808.5195\n",
            "Epoch 21/30, MRE Train: 421.4691, MRE Val: 422.1004\n",
            "Epoch 22/30, Train Loss: 21501.7116, Val Loss: 21116.1198\n",
            "Epoch 22/30, MRE Train: 416.1622, MRE Val: 408.6991\n",
            "Epoch 23/30, Train Loss: 21672.0736, Val Loss: 21558.1764\n",
            "Epoch 23/30, MRE Train: 419.4595, MRE Val: 417.2550\n",
            "Epoch 24/30, Train Loss: 20863.5592, Val Loss: 21157.2168\n",
            "Epoch 24/30, MRE Train: 403.8108, MRE Val: 409.4945\n",
            "Epoch 25/30, Train Loss: 21638.8490, Val Loss: 21013.8184\n",
            "Epoch 25/30, MRE Train: 418.8164, MRE Val: 406.7191\n",
            "Epoch 26/30, Train Loss: 21043.6608, Val Loss: 21155.2936\n",
            "Epoch 26/30, MRE Train: 407.2967, MRE Val: 409.4573\n",
            "Epoch 27/30, Train Loss: 20395.1960, Val Loss: 20529.8835\n",
            "Epoch 27/30, MRE Train: 394.7457, MRE Val: 397.3526\n",
            "Epoch 28/30, Train Loss: 21441.5618, Val Loss: 20424.4837\n",
            "Epoch 28/30, MRE Train: 414.9980, MRE Val: 395.3126\n",
            "Epoch 29/30, Train Loss: 20602.1400, Val Loss: 20690.2969\n",
            "Epoch 29/30, MRE Train: 398.7511, MRE Val: 400.4574\n",
            "Epoch 30/30, Train Loss: 20142.9316, Val Loss: 19365.7682\n",
            "Epoch 30/30, MRE Train: 389.8632, MRE Val: 374.8213\n",
            "Cluster 2: 198 samples\n",
            "Epoch 1/30, Train Loss: 39527.2783, Val Loss: 39825.9785\n",
            "Epoch 1/30, MRE Train: 798.5309, MRE Val: 804.5652\n",
            "Epoch 2/30, Train Loss: 38287.9697, Val Loss: 39383.4727\n",
            "Epoch 2/30, MRE Train: 773.4943, MRE Val: 795.6257\n",
            "Epoch 3/30, Train Loss: 37651.1006, Val Loss: 36739.3750\n",
            "Epoch 3/30, MRE Train: 760.6283, MRE Val: 742.2096\n",
            "Epoch 4/30, Train Loss: 34474.7432, Val Loss: 36490.8770\n",
            "Epoch 4/30, MRE Train: 696.4595, MRE Val: 737.1894\n",
            "Epoch 5/30, Train Loss: 36339.8809, Val Loss: 31534.5972\n",
            "Epoch 5/30, MRE Train: 734.1390, MRE Val: 637.0626\n",
            "Epoch 6/30, Train Loss: 32363.8979, Val Loss: 32666.5503\n",
            "Epoch 6/30, MRE Train: 653.8161, MRE Val: 659.9303\n",
            "Epoch 7/30, Train Loss: 31778.3955, Val Loss: 37644.6929\n",
            "Epoch 7/30, MRE Train: 641.9878, MRE Val: 760.4988\n",
            "Epoch 8/30, Train Loss: 31844.5176, Val Loss: 28541.2568\n",
            "Epoch 8/30, MRE Train: 643.3236, MRE Val: 576.5910\n",
            "Epoch 9/30, Train Loss: 27212.4106, Val Loss: 28302.3999\n",
            "Epoch 9/30, MRE Train: 549.7457, MRE Val: 571.7657\n",
            "Epoch 10/30, Train Loss: 26890.3599, Val Loss: 28264.6836\n",
            "Epoch 10/30, MRE Train: 543.2396, MRE Val: 571.0037\n",
            "Epoch 11/30, Train Loss: 27022.2832, Val Loss: 27967.0171\n",
            "Epoch 11/30, MRE Train: 545.9047, MRE Val: 564.9902\n",
            "Epoch 12/30, Train Loss: 24801.2603, Val Loss: 26089.2446\n",
            "Epoch 12/30, MRE Train: 501.0356, MRE Val: 527.0554\n",
            "Epoch 13/30, Train Loss: 24388.5298, Val Loss: 25390.2778\n",
            "Epoch 13/30, MRE Train: 492.6976, MRE Val: 512.9349\n",
            "Epoch 14/30, Train Loss: 24026.6343, Val Loss: 22993.4419\n",
            "Epoch 14/30, MRE Train: 485.3866, MRE Val: 464.5140\n",
            "Epoch 15/30, Train Loss: 23973.4375, Val Loss: 21906.6055\n",
            "Epoch 15/30, MRE Train: 484.3119, MRE Val: 442.5577\n",
            "Epoch 16/30, Train Loss: 21919.6006, Val Loss: 22410.6582\n",
            "Epoch 16/30, MRE Train: 442.8202, MRE Val: 452.7406\n",
            "Epoch 17/30, Train Loss: 21504.8081, Val Loss: 21056.7749\n",
            "Epoch 17/30, MRE Train: 434.4406, MRE Val: 425.3894\n",
            "Epoch 18/30, Train Loss: 20523.2427, Val Loss: 21168.3994\n",
            "Epoch 18/30, MRE Train: 414.6110, MRE Val: 427.6444\n",
            "Epoch 19/30, Train Loss: 19778.7998, Val Loss: 20220.1445\n",
            "Epoch 19/30, MRE Train: 399.5717, MRE Val: 408.4878\n",
            "Epoch 20/30, Train Loss: 18386.4385, Val Loss: 22022.2568\n",
            "Epoch 20/30, MRE Train: 371.4432, MRE Val: 444.8941\n",
            "Epoch 21/30, Train Loss: 18800.4131, Val Loss: 20492.4956\n",
            "Epoch 21/30, MRE Train: 379.8063, MRE Val: 413.9898\n",
            "Epoch 22/30, Train Loss: 18662.8350, Val Loss: 22671.8899\n",
            "Epoch 22/30, MRE Train: 377.0270, MRE Val: 458.0180\n",
            "Epoch 23/30, Train Loss: 17965.3892, Val Loss: 17100.1094\n",
            "Epoch 23/30, MRE Train: 362.9372, MRE Val: 345.4568\n",
            "Epoch 24/30, Train Loss: 16936.2446, Val Loss: 19218.3174\n",
            "Epoch 24/30, MRE Train: 342.1464, MRE Val: 388.2488\n",
            "Epoch 25/30, Train Loss: 18265.9839, Val Loss: 17029.3359\n",
            "Epoch 25/30, MRE Train: 369.0098, MRE Val: 344.0270\n",
            "Epoch 26/30, Train Loss: 15860.1997, Val Loss: 15194.2695\n",
            "Epoch 26/30, MRE Train: 320.4081, MRE Val: 306.9549\n",
            "Epoch 27/30, Train Loss: 16756.6208, Val Loss: 16787.3477\n",
            "Epoch 27/30, MRE Train: 338.5176, MRE Val: 339.1383\n",
            "Epoch 28/30, Train Loss: 16468.8679, Val Loss: 16682.2864\n",
            "Epoch 28/30, MRE Train: 332.7044, MRE Val: 337.0159\n",
            "Epoch 29/30, Train Loss: 14547.9062, Val Loss: 15553.9485\n",
            "Epoch 29/30, MRE Train: 293.8971, MRE Val: 314.2212\n",
            "Epoch 30/30, Train Loss: 14251.7546, Val Loss: 13189.0959\n",
            "Epoch 30/30, MRE Train: 287.9142, MRE Val: 266.4464\n",
            "Cluster 3: 197 samples\n",
            "Epoch 1/30, Train Loss: 26360.8096, Val Loss: 27539.6182\n",
            "Epoch 1/30, MRE Train: 535.2449, MRE Val: 559.1801\n",
            "Epoch 2/30, Train Loss: 27256.0542, Val Loss: 25154.2769\n",
            "Epoch 2/30, MRE Train: 553.4224, MRE Val: 510.7467\n",
            "Epoch 3/30, Train Loss: 25219.5371, Val Loss: 24748.5986\n",
            "Epoch 3/30, MRE Train: 512.0718, MRE Val: 502.5096\n",
            "Epoch 4/30, Train Loss: 23692.6528, Val Loss: 24131.3433\n",
            "Epoch 4/30, MRE Train: 481.0691, MRE Val: 489.9765\n",
            "Epoch 5/30, Train Loss: 25750.7563, Val Loss: 21991.1162\n",
            "Epoch 5/30, MRE Train: 522.8580, MRE Val: 446.5201\n",
            "Epoch 6/30, Train Loss: 21810.7874, Val Loss: 21751.3179\n",
            "Epoch 6/30, MRE Train: 442.8586, MRE Val: 441.6511\n",
            "Epoch 7/30, Train Loss: 22298.1562, Val Loss: 21245.5923\n",
            "Epoch 7/30, MRE Train: 452.7544, MRE Val: 431.3826\n",
            "Epoch 8/30, Train Loss: 24855.6714, Val Loss: 21578.6841\n",
            "Epoch 8/30, MRE Train: 504.6837, MRE Val: 438.1459\n",
            "Epoch 9/30, Train Loss: 21351.5947, Val Loss: 20435.6821\n",
            "Epoch 9/30, MRE Train: 433.5349, MRE Val: 414.9377\n",
            "Epoch 10/30, Train Loss: 21177.7744, Val Loss: 20094.3760\n",
            "Epoch 10/30, MRE Train: 430.0056, MRE Val: 408.0076\n",
            "Epoch 11/30, Train Loss: 22256.9653, Val Loss: 19360.8804\n",
            "Epoch 11/30, MRE Train: 451.9181, MRE Val: 393.1143\n",
            "Epoch 12/30, Train Loss: 21101.9492, Val Loss: 18167.2817\n",
            "Epoch 12/30, MRE Train: 428.4660, MRE Val: 368.8788\n",
            "Epoch 13/30, Train Loss: 18645.4912, Val Loss: 20194.9595\n",
            "Epoch 13/30, MRE Train: 378.5887, MRE Val: 410.0499\n",
            "Epoch 14/30, Train Loss: 20629.8965, Val Loss: 17193.2336\n",
            "Epoch 14/30, MRE Train: 418.8811, MRE Val: 349.1012\n",
            "Epoch 15/30, Train Loss: 19096.3901, Val Loss: 16657.5127\n",
            "Epoch 15/30, MRE Train: 387.7440, MRE Val: 338.2236\n",
            "Epoch 16/30, Train Loss: 17677.0225, Val Loss: 17391.0637\n",
            "Epoch 16/30, MRE Train: 358.9243, MRE Val: 353.1180\n",
            "Epoch 17/30, Train Loss: 17859.7168, Val Loss: 16667.1240\n",
            "Epoch 17/30, MRE Train: 362.6338, MRE Val: 338.4188\n",
            "Epoch 18/30, Train Loss: 17229.5698, Val Loss: 14609.9829\n",
            "Epoch 18/30, MRE Train: 349.8390, MRE Val: 296.6494\n",
            "Epoch 19/30, Train Loss: 14793.7605, Val Loss: 18235.6270\n",
            "Epoch 19/30, MRE Train: 300.3809, MRE Val: 370.2665\n",
            "Epoch 20/30, Train Loss: 15124.9221, Val Loss: 13755.9998\n",
            "Epoch 20/30, MRE Train: 307.1050, MRE Val: 279.3096\n",
            "Epoch 21/30, Train Loss: 12871.2924, Val Loss: 14399.3108\n",
            "Epoch 21/30, MRE Train: 261.3460, MRE Val: 292.3718\n",
            "Epoch 22/30, Train Loss: 16285.3938, Val Loss: 12632.4337\n",
            "Epoch 22/30, MRE Train: 330.6679, MRE Val: 256.4961\n",
            "Epoch 23/30, Train Loss: 12233.1932, Val Loss: 12779.5891\n",
            "Epoch 23/30, MRE Train: 248.3897, MRE Val: 259.4840\n",
            "Epoch 24/30, Train Loss: 12546.3154, Val Loss: 11503.0966\n",
            "Epoch 24/30, MRE Train: 254.7475, MRE Val: 233.5654\n",
            "Epoch 25/30, Train Loss: 13373.4270, Val Loss: 13150.7454\n",
            "Epoch 25/30, MRE Train: 271.5417, MRE Val: 267.0202\n",
            "Epoch 26/30, Train Loss: 12252.5549, Val Loss: 11113.0811\n",
            "Epoch 26/30, MRE Train: 248.7828, MRE Val: 225.6463\n",
            "Epoch 27/30, Train Loss: 10479.5131, Val Loss: 11773.7385\n",
            "Epoch 27/30, MRE Train: 212.7820, MRE Val: 239.0607\n",
            "Epoch 28/30, Train Loss: 13436.1091, Val Loss: 10523.8799\n",
            "Epoch 28/30, MRE Train: 272.8144, MRE Val: 213.6828\n",
            "Epoch 29/30, Train Loss: 10884.7764, Val Loss: 9712.3267\n",
            "Epoch 29/30, MRE Train: 221.0107, MRE Val: 197.2046\n",
            "Epoch 30/30, Train Loss: 11228.1768, Val Loss: 8888.5143\n",
            "Epoch 30/30, MRE Train: 227.9833, MRE Val: 180.4774\n"
          ]
        },
        {
          "output_type": "display_data",
          "data": {
            "text/plain": [
              "<Figure size 640x480 with 1 Axes>"
            ],
            "image/png": "[encoded data removed]"
          },
          "metadata": {}
        }
      ]
    },
    {
      "cell_type": "markdown",
      "source": [
        "#Graph Neural Network"
      ],
      "metadata": {
        "id": "SDcU8Kvx31Rw"
      }
    },
    {
      "cell_type": "code",
      "source": [
        "from torch_geometric.nn import GCNConv, global_mean_pool\n",
        "from torch_geometric.data import Data\n",
        "import torch.nn.functional as F"
      ],
      "metadata": {
        "colab": {
          "base_uri": "https://localhost:8080/",
          "height": 367
        },
        "id": "c0p_sGAWgFMR",
        "outputId": "e7245c7d-7318-4ec7-d403-76e59599b2a8"
      },
      "execution_count": null,
      "outputs": [
        {
          "output_type": "error",
          "ename": "ModuleNotFoundError",
          "evalue": "No module named 'torch_geometric'",
          "traceback": [
            "\u001b[0;31m---------------------------------------------------------------------------\u001b[0m",
            "\u001b[0;31mModuleNotFoundError\u001b[0m                       Traceback (most recent call last)",
            "\u001b[0;32m<ipython-input-26-26c5278422ef>\u001b[0m in \u001b[0;36m<cell line: 0>\u001b[0;34m()\u001b[0m\n\u001b[0;32m----> 1\u001b[0;31m \u001b[0;32mfrom\u001b[0m \u001b[0mtorch_geometric\u001b[0m\u001b[0;34m.\u001b[0m\u001b[0mnn\u001b[0m \u001b[0;32mimport\u001b[0m \u001b[0mGCNConv\u001b[0m\u001b[0;34m,\u001b[0m \u001b[0mglobal_mean_pool\u001b[0m\u001b[0;34m\u001b[0m\u001b[0;34m\u001b[0m\u001b[0m\n\u001b[0m\u001b[1;32m      2\u001b[0m \u001b[0;32mfrom\u001b[0m \u001b[0mtorch_geometric\u001b[0m\u001b[0;34m.\u001b[0m\u001b[0mdata\u001b[0m \u001b[0;32mimport\u001b[0m \u001b[0mData\u001b[0m\u001b[0;34m\u001b[0m\u001b[0;34m\u001b[0m\u001b[0m\n\u001b[1;32m      3\u001b[0m \u001b[0;32mfrom\u001b[0m \u001b[0mtorch\u001b[0m\u001b[0;34m.\u001b[0m\u001b[0mnn\u001b[0m \u001b[0;32mimport\u001b[0m \u001b[0mLinear\u001b[0m\u001b[0;34m\u001b[0m\u001b[0;34m\u001b[0m\u001b[0m\n\u001b[1;32m      4\u001b[0m \u001b[0;32mimport\u001b[0m \u001b[0mtorch\u001b[0m\u001b[0;34m.\u001b[0m\u001b[0mnn\u001b[0m\u001b[0;34m.\u001b[0m\u001b[0mfunctional\u001b[0m \u001b[0;32mas\u001b[0m \u001b[0mF\u001b[0m\u001b[0;34m\u001b[0m\u001b[0;34m\u001b[0m\u001b[0m\n",
            "\u001b[0;31mModuleNotFoundError\u001b[0m: No module named 'torch_geometric'",
            "",
            "\u001b[0;31m---------------------------------------------------------------------------\u001b[0;32m\nNOTE: If your import is failing due to a missing package, you can\nmanually install dependencies using either !pip or !apt.\n\nTo view examples of installing some common dependencies, click the\n\"Open Examples\" button below.\n\u001b[0;31m---------------------------------------------------------------------------\u001b[0m\n"
          ],
          "errorDetails": {
            "actions": [
              {
                "action": "open_url",
                "actionText": "Open Examples",
                "url": "/notebooks/snippets/importing_libraries.ipynb"
              }
            ]
          }
        }
      ]
    },
    {
      "cell_type": "code",
      "source": [
        "#Amogh's GNN\n",
        "class GNN(torch.nn.Module):\n",
        "    def __init__(self, hidden_channels1, hidden_channels2, hidden_channels3, num_features):\n",
        "        \"\"\"\n",
        "          Behavior: Initialize the Graph Convolutional Neural Network layers with distinct number of neurons.\n",
        "          Since our class is inheiriting a Pytorch neural network module, we first need to initialize the base class torch.nn.Module to be able to\n",
        "          gain access to Pytorch methods that will help us use this class to manage and build a neural network.\n",
        "\n",
        "          Then we initialize our first layer which has an input layer of 17 (because each atom has 17 descriptors), then a middle layer\n",
        "          with 256 nuerons, then second middle layer goes from 256 -> 128, then last middle layer goes from 128 -> 64 nuerons.\n",
        "          Then we have a fully connected linear layer to process molecular features (mz, adduct) and we send those to a\n",
        "          layer with 64 neurons. Lastly, we define a output layer which will a single scalar value (ccs), and since we concatenate the neurons\n",
        "          from the atomic features (GCN) and graph-level features (Linear), we must multiply by 2.\n",
        "\n",
        "          Exceptions: None\n",
        "\n",
        "          Returns: None\n",
        "\n",
        "          Parameters:\n",
        "          - hiddden_channels1: the number of neurons in the 1st hidden layer\n",
        "          - hiddle_channels2: the number of neurons in the 2nd hidden layer\n",
        "          - hiddle_channels3: the number of neurons in the 3rd hidden layer\n",
        "        \"\"\"\n",
        "        super(GNN, self).__init__()\n",
        "        self.input = GCNConv(num_features, hidden_channels1)  # Use num_features\n",
        "        self.hidden1 = GCNConv(hidden_channels1, hidden_channels2)\n",
        "        self.hidden2 = GCNConv(hidden_channels2, hidden_channels3)\n",
        "\n",
        "        self.output = Linear(hidden_channels3, 1)\n",
        "        self.dropout_rates = [0.5, 0.3, 0.1]\n",
        "\n",
        "    def forward(self, data):\n",
        "        x, edge_index, batch = data.x, data.edge_index, data.batch\n",
        "\n",
        "        x = self.input(x, edge_index)\n",
        "        x = F.relu(x)\n",
        "        x = F.dropout(x, p=self.dropout_rates[0], training=self.training)\n",
        "\n",
        "        x = self.hidden1(x, edge_index)\n",
        "        x = F.relu(x)\n",
        "        x = F.dropout(x, p=self.dropout_rates[1], training=self.training)\n",
        "\n",
        "        x = self.hidden2(x, edge_index)\n",
        "        x = F.relu(x)\n",
        "        x = F.dropout(x, p=self.dropout_rates[2], training=self.training)\n",
        "\n",
        "        x = global_mean_pool(x, batch)\n",
        "\n",
        "        return self.output(x)\n"
      ],
      "metadata": {
        "id": "FWt2EOqPtTwY"
      },
      "execution_count": null,
      "outputs": []
    },
    {
      "cell_type": "code",
      "source": [
        "# Assuming X_tensor and y_tensor are your features and targets\n",
        "# and you have edge_index (connectivity information)\n",
        "# Example edge_index (replace with your actual data):\n",
        "edge_index = torch.randint(0, X_tensor.shape[0], (2, 100))\n",
        "\n",
        "# Initialize and train the GNN model\n",
        "gnn_model = GNN(hidden_channels1=64, hidden_channels2=32, hidden_channels3=16, naum_features=X_tensor.shape[1]).to(device)\n",
        "\n",
        "# Train the model using the train function\n",
        "train_history_A, val_history_A, best_model = train(gnn_model, train_loader, validation_loader,\n",
        "    num_epochs=30, learning_rate=1e-3, compute_accs=True)\n",
        "\n",
        "histories_A = [{\n",
        "    'name': 'gnn_model',\n",
        "    'train_loss': train_history_A,\n",
        "    'val_loss': val_history_A\n",
        "}]\n",
        "\n",
        "plot_history(histories_A)"
      ],
      "metadata": {
        "colab": {
          "base_uri": "https://localhost:8080/",
          "height": 228
        },
        "id": "LeIP0o0dgY3v",
        "outputId": "84b7d436-a389-4ce2-d54a-d22a0f46f214"
      },
      "execution_count": null,
      "outputs": [
        {
          "output_type": "error",
          "ename": "TypeError",
          "evalue": "GNN.__init__() got an unexpected keyword argument 'naum_features'",
          "traceback": [
            "\u001b[0;31m---------------------------------------------------------------------------\u001b[0m",
            "\u001b[0;31mTypeError\u001b[0m                                 Traceback (most recent call last)",
            "\u001b[0;32m<ipython-input-27-dff155bb01b0>\u001b[0m in \u001b[0;36m<cell line: 0>\u001b[0;34m()\u001b[0m\n\u001b[1;32m      5\u001b[0m \u001b[0;34m\u001b[0m\u001b[0m\n\u001b[1;32m      6\u001b[0m \u001b[0;31m# Initialize and train the GNN model\u001b[0m\u001b[0;34m\u001b[0m\u001b[0;34m\u001b[0m\u001b[0m\n\u001b[0;32m----> 7\u001b[0;31m \u001b[0mgnn_model\u001b[0m \u001b[0;34m=\u001b[0m \u001b[0mGNN\u001b[0m\u001b[0;34m(\u001b[0m\u001b[0mhidden_channels1\u001b[0m\u001b[0;34m=\u001b[0m\u001b[0;36m64\u001b[0m\u001b[0;34m,\u001b[0m \u001b[0mhidden_channels2\u001b[0m\u001b[0;34m=\u001b[0m\u001b[0;36m32\u001b[0m\u001b[0;34m,\u001b[0m \u001b[0mhidden_channels3\u001b[0m\u001b[0;34m=\u001b[0m\u001b[0;36m16\u001b[0m\u001b[0;34m,\u001b[0m \u001b[0mnaum_features\u001b[0m\u001b[0;34m=\u001b[0m\u001b[0mX_tensor\u001b[0m\u001b[0;34m.\u001b[0m\u001b[0mshape\u001b[0m\u001b[0;34m[\u001b[0m\u001b[0;36m1\u001b[0m\u001b[0;34m]\u001b[0m\u001b[0;34m)\u001b[0m\u001b[0;34m.\u001b[0m\u001b[0mto\u001b[0m\u001b[0;34m(\u001b[0m\u001b[0mdevice\u001b[0m\u001b[0;34m)\u001b[0m\u001b[0;34m\u001b[0m\u001b[0;34m\u001b[0m\u001b[0m\n\u001b[0m\u001b[1;32m      8\u001b[0m \u001b[0;34m\u001b[0m\u001b[0m\n\u001b[1;32m      9\u001b[0m \u001b[0;31m# Train the model using the train function\u001b[0m\u001b[0;34m\u001b[0m\u001b[0;34m\u001b[0m\u001b[0m\n",
            "\u001b[0;31mTypeError\u001b[0m: GNN.__init__() got an unexpected keyword argument 'naum_features'"
          ]
        }
      ]
    }
  ]
}